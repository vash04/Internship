{
 "cells": [
  {
   "cell_type": "code",
   "execution_count": 2,
   "id": "f788fb2e",
   "metadata": {},
   "outputs": [
    {
     "name": "stdout",
     "output_type": "stream",
     "text": [
      "The factorial of 7 is 5040\n"
     ]
    }
   ],
   "source": [
    "#11\n",
    "def factorial(x):\n",
    "    if x==1:\n",
    "        return 1\n",
    "    else:\n",
    "        return x * factorial(x-1)\n",
    "num=7\n",
    "result=factorial(num)\n",
    "print('The factorial of', num, 'is', result)"
   ]
  },
  {
   "cell_type": "code",
   "execution_count": 3,
   "id": "9bd8c311",
   "metadata": {},
   "outputs": [
    {
     "name": "stdout",
     "output_type": "stream",
     "text": [
      "407 is a prime number\n",
      "407 is a prime number\n",
      "407 is a prime number\n",
      "407 is a prime number\n",
      "407 is a prime number\n",
      "407 is a prime number\n",
      "407 is a prime number\n",
      "407 is a prime number\n",
      "407 is a prime number\n",
      "407 is not a prime number\n",
      "11 times 37 is 407\n"
     ]
    }
   ],
   "source": [
    "#12\n",
    "num=407\n",
    "if num<=1:\n",
    "    print(num, 'is not a prime number')\n",
    "else:\n",
    "    for i in range(2, num):\n",
    "        if num%i==0:\n",
    "            print(num, 'is not a prime number')\n",
    "            print(i, 'times', num//i, 'is', num)\n",
    "            break\n",
    "        else:\n",
    "            print(num, 'is a prime number')"
   ]
  },
  {
   "cell_type": "code",
   "execution_count": 4,
   "id": "33225fff",
   "metadata": {},
   "outputs": [
    {
     "name": "stdout",
     "output_type": "stream",
     "text": [
      "Yes, it is a palindrome\n"
     ]
    }
   ],
   "source": [
    "#13\n",
    "def is_palindrome(s):\n",
    "    return s==s[::-1]\n",
    "string='malayalam'\n",
    "if is_palindrome(string):\n",
    "    print('Yes, it is a palindrome')\n",
    "else:\n",
    "     print('No, it is not a palindrome')"
   ]
  },
  {
   "cell_type": "code",
   "execution_count": 5,
   "id": "a5eac8c7",
   "metadata": {},
   "outputs": [
    {
     "name": "stdout",
     "output_type": "stream",
     "text": [
      "Hypotenuse = 5.0\n",
      "Adjacent = 4.0\n",
      "Opposite = 3.0\n",
      "You know the answer!\n"
     ]
    }
   ],
   "source": [
    "#14\n",
    "def pythagoras(opposite_side, adjacent_side, hypotenuse):\n",
    "    if opposite_side == str(\"x\"):\n",
    "        return f\"Opposite = {(hypotenuse**2 - adjacent_side**2)**0.5}\"\n",
    "    elif adjacent_side == str(\"x\"):\n",
    "        return f\"Adjacent = {(hypotenuse**2 - opposite_side**2)**0.5}\"\n",
    "    elif hypotenuse == str(\"x\"):\n",
    "        return f\"Hypotenuse = {(opposite_side**2 + adjacent_side**2)**0.5}\"\n",
    "    else:\n",
    "         return \"You know the answer!\"\n",
    "print(pythagoras(3, 4, 'x'))\n",
    "print(pythagoras(3, 'x', 5))\n",
    "print(pythagoras('x', 4, 5))\n",
    "print(pythagoras(3, 4, 5))"
   ]
  },
  {
   "cell_type": "code",
   "execution_count": 6,
   "id": "2e32de28",
   "metadata": {},
   "outputs": [
    {
     "name": "stdout",
     "output_type": "stream",
     "text": [
      "Character frequencies:\n",
      "'S': 1\n",
      "'a': 1\n",
      "'r': 1\n",
      "'v': 1\n",
      "'e': 1\n",
      "'s': 1\n",
      "'h': 1\n"
     ]
    }
   ],
   "source": [
    "#15\n",
    "def character_frequency(s):\n",
    "    char_count = {}\n",
    "    for char in s:\n",
    "        char_count[char] = char_count.get(char, 0) + 1\n",
    "    return char_count\n",
    "input_string = \"Sarvesh\" \n",
    "result = character_frequency(input_string)\n",
    "print(\"Character frequencies:\")\n",
    "for char, count in result.items():\n",
    "    print(f\"'{char}': {count}\")"
   ]
  },
  {
   "cell_type": "code",
   "execution_count": null,
   "id": "c8501b1f",
   "metadata": {},
   "outputs": [],
   "source": []
  }
 ],
 "metadata": {
  "kernelspec": {
   "display_name": "Python 3 (ipykernel)",
   "language": "python",
   "name": "python3"
  },
  "language_info": {
   "codemirror_mode": {
    "name": "ipython",
    "version": 3
   },
   "file_extension": ".py",
   "mimetype": "text/x-python",
   "name": "python",
   "nbconvert_exporter": "python",
   "pygments_lexer": "ipython3",
   "version": "3.11.5"
  }
 },
 "nbformat": 4,
 "nbformat_minor": 5
}
