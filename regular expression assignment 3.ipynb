{
 "cells": [
  {
   "cell_type": "code",
   "execution_count": 35,
   "id": "e7a79b0d",
   "metadata": {},
   "outputs": [],
   "source": [
    "import re\n",
    "import pandas as pd"
   ]
  },
  {
   "cell_type": "code",
   "execution_count": 2,
   "id": "2a10c722",
   "metadata": {},
   "outputs": [
    {
     "name": "stdout",
     "output_type": "stream",
     "text": [
      "Python:Exercises::PHP:exercises:\n"
     ]
    }
   ],
   "source": [
    "#answer 1\n",
    "text = 'Python Exercises, PHP exercises.'\n",
    "print(re.sub(r'[ ,.]', ':', text))"
   ]
  },
  {
   "cell_type": "code",
   "execution_count": 13,
   "id": "49800ab3",
   "metadata": {},
   "outputs": [
    {
     "data": {
      "text/html": [
       "<div>\n",
       "<style scoped>\n",
       "    .dataframe tbody tr th:only-of-type {\n",
       "        vertical-align: middle;\n",
       "    }\n",
       "\n",
       "    .dataframe tbody tr th {\n",
       "        vertical-align: top;\n",
       "    }\n",
       "\n",
       "    .dataframe thead th {\n",
       "        text-align: right;\n",
       "    }\n",
       "</style>\n",
       "<table border=\"1\" class=\"dataframe\">\n",
       "  <thead>\n",
       "    <tr style=\"text-align: right;\">\n",
       "      <th></th>\n",
       "      <th>SUMMARY</th>\n",
       "    </tr>\n",
       "  </thead>\n",
       "  <tbody>\n",
       "    <tr>\n",
       "      <th>0</th>\n",
       "      <td>hello world</td>\n",
       "    </tr>\n",
       "    <tr>\n",
       "      <th>1</th>\n",
       "      <td>XXXXX test</td>\n",
       "    </tr>\n",
       "    <tr>\n",
       "      <th>2</th>\n",
       "      <td>123four five six</td>\n",
       "    </tr>\n",
       "  </tbody>\n",
       "</table>\n",
       "</div>"
      ],
      "text/plain": [
       "            SUMMARY\n",
       "0       hello world\n",
       "1        XXXXX test\n",
       "2  123four five six"
      ]
     },
     "execution_count": 13,
     "metadata": {},
     "output_type": "execute_result"
    }
   ],
   "source": [
    "#answer 2\n",
    "dict={'SUMMARY' : ['hello, world!', 'XXXXX test', '123four, five:; six...']}\n",
    "df=pd.DataFrame(dict)\n",
    "df['SUMMARY']=df['SUMMARY'].apply(lambda x: re.sub(r'[^\\w\\s]', '', x))\n",
    "df"
   ]
  },
  {
   "cell_type": "code",
   "execution_count": 14,
   "id": "776c4f36",
   "metadata": {},
   "outputs": [],
   "source": [
    "#answer 3\n",
    "def four_character_long_words(text):\n",
    "    pattern=re.compile(r'\\b\\w{4,}\\b')\n",
    "    return pattern.findall(text)"
   ]
  },
  {
   "cell_type": "code",
   "execution_count": 15,
   "id": "0e03d27e",
   "metadata": {},
   "outputs": [
    {
     "data": {
      "text/plain": [
       "['learning', 'regular', 'expression', 'enjoying', 'learning']"
      ]
     },
     "execution_count": 15,
     "metadata": {},
     "output_type": "execute_result"
    }
   ],
   "source": [
    "text='I am learning regular expression and I am enjoying learning it!'\n",
    "four_character_long_words(text)"
   ]
  },
  {
   "cell_type": "code",
   "execution_count": 16,
   "id": "4af23224",
   "metadata": {},
   "outputs": [],
   "source": [
    "#answer 4\n",
    "def three_four_and_five_character_long_words(text):\n",
    "    pattern=re.compile(r'\\b\\w{3,5}\\b')\n",
    "    return pattern.findall(text)"
   ]
  },
  {
   "cell_type": "code",
   "execution_count": 17,
   "id": "5c96ba21",
   "metadata": {},
   "outputs": [
    {
     "data": {
      "text/plain": [
       "['and']"
      ]
     },
     "execution_count": 17,
     "metadata": {},
     "output_type": "execute_result"
    }
   ],
   "source": [
    "text='I am learning regular expression and I am enjoying learning it!'\n",
    "three_four_and_five_character_long_words(text)"
   ]
  },
  {
   "cell_type": "code",
   "execution_count": 3,
   "id": "bd25d1ab",
   "metadata": {},
   "outputs": [
    {
     "data": {
      "text/plain": [
       "['example ', 'hr@fliprobo ', 'github ', 'Hello ', 'Data ']"
      ]
     },
     "execution_count": 3,
     "metadata": {},
     "output_type": "execute_result"
    }
   ],
   "source": [
    "#answer 5\n",
    "def remove_parenthesis(strings):\n",
    "    pattern=re.compile(r'\\([^)]*\\)')\n",
    "    cleaned_strings=[pattern.sub('', s) for s in strings]\n",
    "    return cleaned_strings\n",
    "sample_text = [\"example (.com)\", \"hr@fliprobo (.com)\", \"github (.com)\", \"Hello (Data Science World)\", \"Data (Scientist)\"]\n",
    "result=remove_parenthesis(sample_text)\n",
    "result"
   ]
  },
  {
   "cell_type": "code",
   "execution_count": 2,
   "id": "c30f4200",
   "metadata": {},
   "outputs": [
    {
     "data": {
      "text/plain": [
       "['example ', 'hr@fliprobo ', 'github ', 'Hello ', 'Data ']"
      ]
     },
     "execution_count": 2,
     "metadata": {},
     "output_type": "execute_result"
    }
   ],
   "source": [
    "#answer 6\n",
    "def remove_parenthesis(strings):\n",
    "    pattern=re.compile(r'\\([^)]*\\)')\n",
    "    cleaned_strings=[pattern.sub('', s) for s in strings]\n",
    "    return cleaned_strings\n",
    "sample_text = [\"example (.com)\", \"hr@fliprobo (.com)\", \"github (.com)\", \"Hello (Data Science World)\", \"Data (Scientist)\"]\n",
    "result=remove_parenthesis(sample_text)\n",
    "result"
   ]
  },
  {
   "cell_type": "code",
   "execution_count": 3,
   "id": "5344d33a",
   "metadata": {},
   "outputs": [
    {
     "data": {
      "text/plain": [
       "['Importance', 'Of', 'Regular', 'Expressions', 'In', 'Python']"
      ]
     },
     "execution_count": 3,
     "metadata": {},
     "output_type": "execute_result"
    }
   ],
   "source": [
    "#answer 7\n",
    "text='ImportanceOfRegularExpressionsInPython'\n",
    "result=re.findall('[A-Z][^A-Z]*', text)\n",
    "result"
   ]
  },
  {
   "cell_type": "code",
   "execution_count": 8,
   "id": "ba79cabf",
   "metadata": {},
   "outputs": [],
   "source": [
    "#answer 8\n",
    "def insert_spaces(text):\n",
    "    pattern=r'\\b(\\d+\\w*)\\b'\n",
    "    spaced_text=re.sub(pattern, ' \\1', text)\n",
    "    return spaced_text"
   ]
  },
  {
   "cell_type": "code",
   "execution_count": 9,
   "id": "63310615",
   "metadata": {},
   "outputs": [
    {
     "data": {
      "text/plain": [
       "'regularexpression1isan2importanttopic3inpython'"
      ]
     },
     "execution_count": 9,
     "metadata": {},
     "output_type": "execute_result"
    }
   ],
   "source": [
    "sample_text='regularexpression1isan2importanttopic3inpython'\n",
    "insert_spaces(sample_text)"
   ]
  },
  {
   "cell_type": "code",
   "execution_count": 10,
   "id": "80a9760f",
   "metadata": {},
   "outputs": [],
   "source": [
    "#answer 9\n",
    "def insert_spaces(text):\n",
    "    pattern=r'([A-Z][a-z0-9]+|\\d+)'\n",
    "    spaced_text=re.sub(pattern, ' \\1', text)\n",
    "    return spaced_text"
   ]
  },
  {
   "cell_type": "code",
   "execution_count": 14,
   "id": "b5d6cfaf",
   "metadata": {},
   "outputs": [
    {
     "data": {
      "text/plain": [
       "' \\x01 \\x01 \\x01 \\x01 \\x01 \\x01 \\x01 \\x01'"
      ]
     },
     "execution_count": 14,
     "metadata": {},
     "output_type": "execute_result"
    }
   ],
   "source": [
    "sample_text='RegularExpression1IsAn2ImportantTopic3InPython'\n",
    "insert_spaces(sample_text)"
   ]
  },
  {
   "cell_type": "code",
   "execution_count": 20,
   "id": "c9e664f1",
   "metadata": {},
   "outputs": [
    {
     "data": {
      "text/html": [
       "<div>\n",
       "<style scoped>\n",
       "    .dataframe tbody tr th:only-of-type {\n",
       "        vertical-align: middle;\n",
       "    }\n",
       "\n",
       "    .dataframe tbody tr th {\n",
       "        vertical-align: top;\n",
       "    }\n",
       "\n",
       "    .dataframe thead th {\n",
       "        text-align: right;\n",
       "    }\n",
       "</style>\n",
       "<table border=\"1\" class=\"dataframe\">\n",
       "  <thead>\n",
       "    <tr style=\"text-align: right;\">\n",
       "      <th></th>\n",
       "      <th>Country</th>\n",
       "      <th>Region</th>\n",
       "      <th>Happiness Rank</th>\n",
       "      <th>Happiness Score</th>\n",
       "      <th>Standard Error</th>\n",
       "      <th>Economy (GDP per Capita)</th>\n",
       "      <th>Family</th>\n",
       "      <th>Health (Life Expectancy)</th>\n",
       "      <th>Freedom</th>\n",
       "      <th>Trust (Government Corruption)</th>\n",
       "      <th>Generosity</th>\n",
       "      <th>Dystopia Residual</th>\n",
       "    </tr>\n",
       "  </thead>\n",
       "  <tbody>\n",
       "    <tr>\n",
       "      <th>0</th>\n",
       "      <td>Switzerland</td>\n",
       "      <td>Western Europe</td>\n",
       "      <td>1</td>\n",
       "      <td>7.587</td>\n",
       "      <td>0.03411</td>\n",
       "      <td>1.39651</td>\n",
       "      <td>1.34951</td>\n",
       "      <td>0.94143</td>\n",
       "      <td>0.66557</td>\n",
       "      <td>0.41978</td>\n",
       "      <td>0.29678</td>\n",
       "      <td>2.51738</td>\n",
       "    </tr>\n",
       "    <tr>\n",
       "      <th>1</th>\n",
       "      <td>Iceland</td>\n",
       "      <td>Western Europe</td>\n",
       "      <td>2</td>\n",
       "      <td>7.561</td>\n",
       "      <td>0.04884</td>\n",
       "      <td>1.30232</td>\n",
       "      <td>1.40223</td>\n",
       "      <td>0.94784</td>\n",
       "      <td>0.62877</td>\n",
       "      <td>0.14145</td>\n",
       "      <td>0.43630</td>\n",
       "      <td>2.70201</td>\n",
       "    </tr>\n",
       "    <tr>\n",
       "      <th>2</th>\n",
       "      <td>Denmark</td>\n",
       "      <td>Western Europe</td>\n",
       "      <td>3</td>\n",
       "      <td>7.527</td>\n",
       "      <td>0.03328</td>\n",
       "      <td>1.32548</td>\n",
       "      <td>1.36058</td>\n",
       "      <td>0.87464</td>\n",
       "      <td>0.64938</td>\n",
       "      <td>0.48357</td>\n",
       "      <td>0.34139</td>\n",
       "      <td>2.49204</td>\n",
       "    </tr>\n",
       "    <tr>\n",
       "      <th>3</th>\n",
       "      <td>Norway</td>\n",
       "      <td>Western Europe</td>\n",
       "      <td>4</td>\n",
       "      <td>7.522</td>\n",
       "      <td>0.03880</td>\n",
       "      <td>1.45900</td>\n",
       "      <td>1.33095</td>\n",
       "      <td>0.88521</td>\n",
       "      <td>0.66973</td>\n",
       "      <td>0.36503</td>\n",
       "      <td>0.34699</td>\n",
       "      <td>2.46531</td>\n",
       "    </tr>\n",
       "    <tr>\n",
       "      <th>4</th>\n",
       "      <td>Canada</td>\n",
       "      <td>North America</td>\n",
       "      <td>5</td>\n",
       "      <td>7.427</td>\n",
       "      <td>0.03553</td>\n",
       "      <td>1.32629</td>\n",
       "      <td>1.32261</td>\n",
       "      <td>0.90563</td>\n",
       "      <td>0.63297</td>\n",
       "      <td>0.32957</td>\n",
       "      <td>0.45811</td>\n",
       "      <td>2.45176</td>\n",
       "    </tr>\n",
       "  </tbody>\n",
       "</table>\n",
       "</div>"
      ],
      "text/plain": [
       "       Country          Region  Happiness Rank  Happiness Score  \\\n",
       "0  Switzerland  Western Europe               1            7.587   \n",
       "1      Iceland  Western Europe               2            7.561   \n",
       "2      Denmark  Western Europe               3            7.527   \n",
       "3       Norway  Western Europe               4            7.522   \n",
       "4       Canada   North America               5            7.427   \n",
       "\n",
       "   Standard Error  Economy (GDP per Capita)   Family  \\\n",
       "0         0.03411                   1.39651  1.34951   \n",
       "1         0.04884                   1.30232  1.40223   \n",
       "2         0.03328                   1.32548  1.36058   \n",
       "3         0.03880                   1.45900  1.33095   \n",
       "4         0.03553                   1.32629  1.32261   \n",
       "\n",
       "   Health (Life Expectancy)  Freedom  Trust (Government Corruption)  \\\n",
       "0                   0.94143  0.66557                        0.41978   \n",
       "1                   0.94784  0.62877                        0.14145   \n",
       "2                   0.87464  0.64938                        0.48357   \n",
       "3                   0.88521  0.66973                        0.36503   \n",
       "4                   0.90563  0.63297                        0.32957   \n",
       "\n",
       "   Generosity  Dystopia Residual  \n",
       "0     0.29678            2.51738  \n",
       "1     0.43630            2.70201  \n",
       "2     0.34139            2.49204  \n",
       "3     0.34699            2.46531  \n",
       "4     0.45811            2.45176  "
      ]
     },
     "execution_count": 20,
     "metadata": {},
     "output_type": "execute_result"
    }
   ],
   "source": [
    "#answer 10\n",
    "data=pd.read_csv(r'https://raw.githubusercontent.com/dsrscientist/DSData/master/happiness_score_dataset.csv')\n",
    "df=pd.DataFrame(data)\n",
    "df.head()"
   ]
  },
  {
   "cell_type": "code",
   "execution_count": 29,
   "id": "9c308129",
   "metadata": {},
   "outputs": [],
   "source": [
    "df['first_five_letters']=df['Country'].apply(lambda x:re.search(r'^\\w{5}', x))"
   ]
  },
  {
   "cell_type": "code",
   "execution_count": 30,
   "id": "69575b15",
   "metadata": {},
   "outputs": [
    {
     "data": {
      "text/html": [
       "<div>\n",
       "<style scoped>\n",
       "    .dataframe tbody tr th:only-of-type {\n",
       "        vertical-align: middle;\n",
       "    }\n",
       "\n",
       "    .dataframe tbody tr th {\n",
       "        vertical-align: top;\n",
       "    }\n",
       "\n",
       "    .dataframe thead th {\n",
       "        text-align: right;\n",
       "    }\n",
       "</style>\n",
       "<table border=\"1\" class=\"dataframe\">\n",
       "  <thead>\n",
       "    <tr style=\"text-align: right;\">\n",
       "      <th></th>\n",
       "      <th>Country</th>\n",
       "      <th>Region</th>\n",
       "      <th>Happiness Rank</th>\n",
       "      <th>Happiness Score</th>\n",
       "      <th>Standard Error</th>\n",
       "      <th>Economy (GDP per Capita)</th>\n",
       "      <th>Family</th>\n",
       "      <th>Health (Life Expectancy)</th>\n",
       "      <th>Freedom</th>\n",
       "      <th>Trust (Government Corruption)</th>\n",
       "      <th>Generosity</th>\n",
       "      <th>Dystopia Residual</th>\n",
       "      <th>first_five_letters</th>\n",
       "    </tr>\n",
       "  </thead>\n",
       "  <tbody>\n",
       "    <tr>\n",
       "      <th>0</th>\n",
       "      <td>Switzerland</td>\n",
       "      <td>Western Europe</td>\n",
       "      <td>1</td>\n",
       "      <td>7.587</td>\n",
       "      <td>0.03411</td>\n",
       "      <td>1.39651</td>\n",
       "      <td>1.34951</td>\n",
       "      <td>0.94143</td>\n",
       "      <td>0.66557</td>\n",
       "      <td>0.41978</td>\n",
       "      <td>0.29678</td>\n",
       "      <td>2.51738</td>\n",
       "      <td>&lt;re.Match object; span=(0, 5), match='Switz'&gt;</td>\n",
       "    </tr>\n",
       "    <tr>\n",
       "      <th>1</th>\n",
       "      <td>Iceland</td>\n",
       "      <td>Western Europe</td>\n",
       "      <td>2</td>\n",
       "      <td>7.561</td>\n",
       "      <td>0.04884</td>\n",
       "      <td>1.30232</td>\n",
       "      <td>1.40223</td>\n",
       "      <td>0.94784</td>\n",
       "      <td>0.62877</td>\n",
       "      <td>0.14145</td>\n",
       "      <td>0.43630</td>\n",
       "      <td>2.70201</td>\n",
       "      <td>&lt;re.Match object; span=(0, 5), match='Icela'&gt;</td>\n",
       "    </tr>\n",
       "    <tr>\n",
       "      <th>2</th>\n",
       "      <td>Denmark</td>\n",
       "      <td>Western Europe</td>\n",
       "      <td>3</td>\n",
       "      <td>7.527</td>\n",
       "      <td>0.03328</td>\n",
       "      <td>1.32548</td>\n",
       "      <td>1.36058</td>\n",
       "      <td>0.87464</td>\n",
       "      <td>0.64938</td>\n",
       "      <td>0.48357</td>\n",
       "      <td>0.34139</td>\n",
       "      <td>2.49204</td>\n",
       "      <td>&lt;re.Match object; span=(0, 5), match='Denma'&gt;</td>\n",
       "    </tr>\n",
       "    <tr>\n",
       "      <th>3</th>\n",
       "      <td>Norway</td>\n",
       "      <td>Western Europe</td>\n",
       "      <td>4</td>\n",
       "      <td>7.522</td>\n",
       "      <td>0.03880</td>\n",
       "      <td>1.45900</td>\n",
       "      <td>1.33095</td>\n",
       "      <td>0.88521</td>\n",
       "      <td>0.66973</td>\n",
       "      <td>0.36503</td>\n",
       "      <td>0.34699</td>\n",
       "      <td>2.46531</td>\n",
       "      <td>&lt;re.Match object; span=(0, 5), match='Norwa'&gt;</td>\n",
       "    </tr>\n",
       "    <tr>\n",
       "      <th>4</th>\n",
       "      <td>Canada</td>\n",
       "      <td>North America</td>\n",
       "      <td>5</td>\n",
       "      <td>7.427</td>\n",
       "      <td>0.03553</td>\n",
       "      <td>1.32629</td>\n",
       "      <td>1.32261</td>\n",
       "      <td>0.90563</td>\n",
       "      <td>0.63297</td>\n",
       "      <td>0.32957</td>\n",
       "      <td>0.45811</td>\n",
       "      <td>2.45176</td>\n",
       "      <td>&lt;re.Match object; span=(0, 5), match='Canad'&gt;</td>\n",
       "    </tr>\n",
       "  </tbody>\n",
       "</table>\n",
       "</div>"
      ],
      "text/plain": [
       "       Country          Region  Happiness Rank  Happiness Score  \\\n",
       "0  Switzerland  Western Europe               1            7.587   \n",
       "1      Iceland  Western Europe               2            7.561   \n",
       "2      Denmark  Western Europe               3            7.527   \n",
       "3       Norway  Western Europe               4            7.522   \n",
       "4       Canada   North America               5            7.427   \n",
       "\n",
       "   Standard Error  Economy (GDP per Capita)   Family  \\\n",
       "0         0.03411                   1.39651  1.34951   \n",
       "1         0.04884                   1.30232  1.40223   \n",
       "2         0.03328                   1.32548  1.36058   \n",
       "3         0.03880                   1.45900  1.33095   \n",
       "4         0.03553                   1.32629  1.32261   \n",
       "\n",
       "   Health (Life Expectancy)  Freedom  Trust (Government Corruption)  \\\n",
       "0                   0.94143  0.66557                        0.41978   \n",
       "1                   0.94784  0.62877                        0.14145   \n",
       "2                   0.87464  0.64938                        0.48357   \n",
       "3                   0.88521  0.66973                        0.36503   \n",
       "4                   0.90563  0.63297                        0.32957   \n",
       "\n",
       "   Generosity  Dystopia Residual  \\\n",
       "0     0.29678            2.51738   \n",
       "1     0.43630            2.70201   \n",
       "2     0.34139            2.49204   \n",
       "3     0.34699            2.46531   \n",
       "4     0.45811            2.45176   \n",
       "\n",
       "                              first_five_letters  \n",
       "0  <re.Match object; span=(0, 5), match='Switz'>  \n",
       "1  <re.Match object; span=(0, 5), match='Icela'>  \n",
       "2  <re.Match object; span=(0, 5), match='Denma'>  \n",
       "3  <re.Match object; span=(0, 5), match='Norwa'>  \n",
       "4  <re.Match object; span=(0, 5), match='Canad'>  "
      ]
     },
     "execution_count": 30,
     "metadata": {},
     "output_type": "execute_result"
    }
   ],
   "source": [
    "df.head()"
   ]
  },
  {
   "cell_type": "code",
   "execution_count": 31,
   "id": "cf661d35",
   "metadata": {},
   "outputs": [],
   "source": [
    "#answer 11\n",
    "def text_match(text):\n",
    "    pattern='^[a-zA-Z0-9_]*$'\n",
    "    match=re.search(pattern, text)\n",
    "    if match:\n",
    "        print('match found', match)\n",
    "    else:\n",
    "        print('no match found')"
   ]
  },
  {
   "cell_type": "code",
   "execution_count": 32,
   "id": "374133a1",
   "metadata": {},
   "outputs": [
    {
     "name": "stdout",
     "output_type": "stream",
     "text": [
      "no match found\n"
     ]
    }
   ],
   "source": [
    "text_match('learning regular expression needs regorous practice')"
   ]
  },
  {
   "cell_type": "code",
   "execution_count": 33,
   "id": "9b311f20",
   "metadata": {},
   "outputs": [
    {
     "name": "stdout",
     "output_type": "stream",
     "text": [
      "match found <re.Match object; span=(0, 20), match='regular_expression_1'>\n"
     ]
    }
   ],
   "source": [
    "text_match('regular_expression_1')"
   ]
  },
  {
   "cell_type": "code",
   "execution_count": 34,
   "id": "4d55ac19",
   "metadata": {},
   "outputs": [],
   "source": [
    "#answer 12\n",
    "#not able to understand the question."
   ]
  },
  {
   "cell_type": "code",
   "execution_count": 36,
   "id": "eccd2a3c",
   "metadata": {},
   "outputs": [],
   "source": [
    "#answer 13\n",
    "def remove_leading_zeroes(ip):\n",
    "    modified_ip=re.sub(r'\\.0*', '.', ip)\n",
    "    return modified_ip"
   ]
  },
  {
   "cell_type": "code",
   "execution_count": 37,
   "id": "252ed9c9",
   "metadata": {},
   "outputs": [
    {
     "data": {
      "text/plain": [
       "'216.8.94.196'"
      ]
     },
     "execution_count": 37,
     "metadata": {},
     "output_type": "execute_result"
    }
   ],
   "source": [
    "original_ip=\"216.08.094.196\"\n",
    "cleaned_ip=remove_leading_zeroes(original_ip)\n",
    "cleaned_ip"
   ]
  },
  {
   "cell_type": "code",
   "execution_count": 41,
   "id": "9189383b",
   "metadata": {},
   "outputs": [
    {
     "data": {
      "text/plain": [
       "[]"
      ]
     },
     "execution_count": 41,
     "metadata": {},
     "output_type": "execute_result"
    }
   ],
   "source": [
    "#answer 14\n",
    "Sample_text='On August 15th 1947 that India was declared independent from British colonialism, and the reins of control were handed over to the leaders of the Country.'\n",
    "pattern = r\"\\d{2}\\s(?:Jan|Feb|Mar|Apr|May|Jun|Jul|Aug|Sep|Oct|Nov|Dec)\\s\\d{4}\"\n",
    "result=re.findall(pattern, Sample_text)\n",
    "result"
   ]
  },
  {
   "cell_type": "code",
   "execution_count": 42,
   "id": "2c6014cb",
   "metadata": {},
   "outputs": [
    {
     "name": "stdout",
     "output_type": "stream",
     "text": [
      "Found \"fox\" in the text from 16 to 19\n",
      "Found \"dog\" in the text from 40 to 43\n",
      "\"horse\" not found in the text.\n"
     ]
    }
   ],
   "source": [
    "#answer 15\n",
    "def search_literals(text, searched_words):\n",
    "    for word in searched_words:\n",
    "        match = re.search(word, text)\n",
    "        if match:\n",
    "            start_index = match.start()\n",
    "            end_index = match.end()\n",
    "            print(f'Found \"{word}\" in the text from {start_index} to {end_index}')\n",
    "        else:\n",
    "            print(f'\"{word}\" not found in the text.')\n",
    "sample_text = 'The quick brown fox jumps over the lazy dog.'\n",
    "words_to_search = ['fox', 'dog', 'horse']\n",
    "search_literals(sample_text, words_to_search)"
   ]
  },
  {
   "cell_type": "code",
   "execution_count": 43,
   "id": "71066675",
   "metadata": {},
   "outputs": [
    {
     "name": "stdout",
     "output_type": "stream",
     "text": [
      "Found \"fox\" in \"The quick brown fox jumps over the lazy dog.\" from 16 to 19\n"
     ]
    }
   ],
   "source": [
    "#answer 16\n",
    "pattern = 'fox'\n",
    "text = 'The quick brown fox jumps over the lazy dog.'\n",
    "match = re.search(pattern, text)\n",
    "if match:\n",
    "    start_index = match.start()\n",
    "    end_index = match.end()\n",
    "    print(f'Found \"{pattern}\" in \"{text}\" from {start_index} to {end_index}')\n",
    "else:\n",
    "    print(f'\"{pattern}\" not found in the text.')"
   ]
  },
  {
   "cell_type": "code",
   "execution_count": 44,
   "id": "3ea79820",
   "metadata": {},
   "outputs": [
    {
     "name": "stdout",
     "output_type": "stream",
     "text": [
      "Found 'exercises' at index 7 to 16\n",
      "Found 'exercises' at index 22 to 31\n",
      "Found 'exercises' at index 36 to 45\n"
     ]
    }
   ],
   "source": [
    "#answer 17\n",
    "def find_substrings(text, pattern):\n",
    "    matches = re.finditer(pattern, text)\n",
    "    for match in matches:\n",
    "        start_index = match.start()\n",
    "        end_index = match.end()\n",
    "        print(f\"Found '{pattern}' at index {start_index} to {end_index}\")\n",
    "sample_text = 'Python exercises, PHP exercises, C# exercises'\n",
    "pattern_to_search = 'exercises'\n",
    "find_substrings(sample_text, pattern_to_search)"
   ]
  },
  {
   "cell_type": "code",
   "execution_count": 45,
   "id": "9f830fd7",
   "metadata": {},
   "outputs": [
    {
     "name": "stdout",
     "output_type": "stream",
     "text": [
      "Found \"exercises\" at 7:16\n",
      "Found \"exercises\" at 22:31\n",
      "Found \"exercises\" at 36:45\n"
     ]
    }
   ],
   "source": [
    "#answer 18\n",
    "text = 'Python exercises, PHP exercises, C# exercises'\n",
    "pattern = 'exercises'\n",
    "for match in re.finditer(pattern, text):\n",
    "    start_index = match.start()\n",
    "    end_index = match.end()\n",
    "    print(f'Found \"{text[start_index:end_index]}\" at {start_index}:{end_index}')"
   ]
  },
  {
   "cell_type": "code",
   "execution_count": 46,
   "id": "ff39df74",
   "metadata": {},
   "outputs": [
    {
     "name": "stdout",
     "output_type": "stream",
     "text": [
      "Original date in YYYY-MM-DD format: 2026-01-02\n",
      "New date in DD-MM-YYYY format: 02-01-2026\n"
     ]
    }
   ],
   "source": [
    "#answer 19\n",
    "def convert_date_format(date_str):\n",
    "    new_date_str = re.sub(r'(\\d{4})-(\\d{2})-(\\d{2})', r'\\3-\\2-\\1', date_str)\n",
    "    return new_date_str\n",
    "original_date = \"2026-01-02\"\n",
    "converted_date = convert_date_format(original_date)\n",
    "print(f\"Original date in YYYY-MM-DD format: {original_date}\")\n",
    "print(f\"New date in DD-MM-YYYY format: {converted_date}\")"
   ]
  },
  {
   "cell_type": "code",
   "execution_count": 47,
   "id": "d171aa1f",
   "metadata": {},
   "outputs": [
    {
     "name": "stdout",
     "output_type": "stream",
     "text": [
      "['01.12', '145.8', '3.01', '27.25', '0.25']\n"
     ]
    }
   ],
   "source": [
    "#answer 20\n",
    "def find_decimal_numbers(text):\n",
    "    pattern = re.compile(r'\\b\\d+\\.\\d{1,2}\\b')\n",
    "    return pattern.findall(text)\n",
    "sample_text = \"01.12 0132.123 2.31875 145.8 3.01 27.25 0.25\"\n",
    "result = find_decimal_numbers(sample_text)\n",
    "print(result)  "
   ]
  },
  {
   "cell_type": "code",
   "execution_count": 48,
   "id": "8847d5fb",
   "metadata": {},
   "outputs": [
    {
     "name": "stdout",
     "output_type": "stream",
     "text": [
      "Number: 50 (Position: 62-64)\n"
     ]
    }
   ],
   "source": [
    "#answer 21\n",
    "def find_numbers_and_positions(text):\n",
    "    pattern = r'\\d+'  \n",
    "    for match in re.finditer(pattern, text):\n",
    "        number = match.group(0)\n",
    "        start_index = match.start()\n",
    "        end_index = match.end()\n",
    "        print(f\"Number: {number} (Position: {start_index}-{end_index})\")\n",
    "sample_text = \"The following example creates an ArrayList with a capacity of 50 elements. Four elements are then added to the ArrayList and the ArrayList is trimmed accordingly.\"\n",
    "find_numbers_and_positions(sample_text)"
   ]
  },
  {
   "cell_type": "code",
   "execution_count": 49,
   "id": "ba24bebd",
   "metadata": {},
   "outputs": [
    {
     "name": "stdout",
     "output_type": "stream",
     "text": [
      "950\n"
     ]
    }
   ],
   "source": [
    "#answer 22\n",
    "def extract_max_numeric_value(input_str):\n",
    "    numbers = re.findall(r'\\d+', input_str)\n",
    "    numbers = map(int, numbers)\n",
    "    print(max(numbers))\n",
    "if __name__ == \"__main__\":\n",
    "    input_str = 'My marks in each semester are: 947, 896, 926, 524, 734, 950, 642'\n",
    "    extract_max_numeric_value(input_str)"
   ]
  },
  {
   "cell_type": "code",
   "execution_count": 50,
   "id": "52d70089",
   "metadata": {},
   "outputs": [
    {
     "name": "stdout",
     "output_type": "stream",
     "text": [
      "Regular Expression Is An Important Topic In Python\n"
     ]
    }
   ],
   "source": [
    "#answer 23\n",
    "def insert_spaces(text):\n",
    "    pattern = r'([A-Z][a-z]+)'\n",
    "    modified_text = re.sub(pattern, r' \\1', text)\n",
    "    return modified_text.strip()\n",
    "sample_text = \"RegularExpressionIsAnImportantTopicInPython\"\n",
    "formatted_text = insert_spaces(sample_text)\n",
    "print(formatted_text)  "
   ]
  },
  {
   "cell_type": "code",
   "execution_count": 51,
   "id": "4f074bea",
   "metadata": {},
   "outputs": [
    {
     "name": "stdout",
     "output_type": "stream",
     "text": [
      "['This', 'Sample', 'Text', 'Multiple', 'Matches']\n"
     ]
    }
   ],
   "source": [
    "#answer 24\n",
    "pattern = r'[A-Z][a-z]+'\n",
    "text = \"This is a Sample Text with Multiple Matches\"\n",
    "matches = re.findall(pattern, text)\n",
    "print(matches)"
   ]
  },
  {
   "cell_type": "code",
   "execution_count": 52,
   "id": "090cf469",
   "metadata": {},
   "outputs": [
    {
     "name": "stdout",
     "output_type": "stream",
     "text": [
      "Hello world\n"
     ]
    }
   ],
   "source": [
    "#answer 25\n",
    "def remove_continuous_duplicates(sentence):\n",
    "    pattern = r'\\b(\\w+)(?:\\s+\\1)+\\b'\n",
    "    result = re.sub(pattern, r'\\1', sentence, flags=re.IGNORECASE)\n",
    "    return result\n",
    "sample_text = \"Hello hello world world\"\n",
    "output = remove_continuous_duplicates(sample_text)\n",
    "print(output)  "
   ]
  },
  {
   "cell_type": "code",
   "execution_count": 53,
   "id": "2455801a",
   "metadata": {},
   "outputs": [
    {
     "name": "stdout",
     "output_type": "stream",
     "text": [
      "Discard\n",
      "Accept\n",
      "Discard\n"
     ]
    }
   ],
   "source": [
    "#answer 26\n",
    "def check_ending_alphanumeric(string):\n",
    "    pattern = r'[a-zA-Z0-9]$'\n",
    "    if re.search(pattern, string):\n",
    "        print(\"Accept\")\n",
    "    else:\n",
    "        print(\"Discard\")\n",
    "check_ending_alphanumeric(\"sarveshjoshi@\")\n",
    "check_ending_alphanumeric(\"sheetal326\")\n",
    "check_ending_alphanumeric(\"betu.\") "
   ]
  },
  {
   "cell_type": "code",
   "execution_count": 54,
   "id": "21ffbb92",
   "metadata": {},
   "outputs": [
    {
     "name": "stdout",
     "output_type": "stream",
     "text": [
      "['#Doltiwal', '#xyzabc', '#Demonetization']\n"
     ]
    }
   ],
   "source": [
    "#answer 27\n",
    "def extract_hashtags(text):\n",
    "    pattern = r'#\\w+'\n",
    "    hashtags = re.findall(pattern, text)\n",
    "    return hashtags\n",
    "sample_text = \"\"\"RT @kapil_kausik: #Doltiwal I mean #xyzabc is \"hurt\" by #Demonetization as the same has rendered USELESS <ed><U+00A0><U+00BD><ed><U+00B1><U+0089> \"acquired funds\" No wo\"\"\" \n",
    "hashtags_list = extract_hashtags(sample_text)\n",
    "print(hashtags_list)  "
   ]
  },
  {
   "cell_type": "code",
   "execution_count": 55,
   "id": "0ba02906",
   "metadata": {},
   "outputs": [
    {
     "name": "stdout",
     "output_type": "stream",
     "text": [
      "@Jags123456 Bharat band on 28??<ed><ed>Those who  are protesting #demonetization  are all different party leaders\n"
     ]
    }
   ],
   "source": [
    "#answer 28\n",
    "def remove_unicode_symbols(text):\n",
    "    pattern = r'<U\\+[0-9A-Fa-f]+>'\n",
    "    cleaned_text = re.sub(pattern, '', text)\n",
    "    return cleaned_text\n",
    "sample_text = \"@Jags123456 Bharat band on 28??<ed><U+00A0><U+00BD><ed><U+00B8><U+0082>Those who  are protesting #demonetization  are all different party leaders\"\n",
    "output_text = remove_unicode_symbols(sample_text)\n",
    "print(output_text)"
   ]
  },
  {
   "cell_type": "code",
   "execution_count": 56,
   "id": "2644d68b",
   "metadata": {},
   "outputs": [
    {
     "name": "stdout",
     "output_type": "stream",
     "text": [
      "Extracted dates: ['12-09-1992', '15-12-1999']\n"
     ]
    }
   ],
   "source": [
    "#answer 29\n",
    "def extract_dates_from_file(file_path):\n",
    "    try:\n",
    "        with open(file_path, 'r') as file:\n",
    "            text = file.read()\n",
    "            pattern = r'\\d{2}-\\d{2}-\\d{4}'\n",
    "            dates = re.findall(pattern, text)\n",
    "            return dates\n",
    "    except FileNotFoundError:\n",
    "        print(f\"File '{file_path}' not found.\")\n",
    "        return []\n",
    "sample_text = \"Ron was born on 12-09-1992 and he was admitted to school 15-12-1999.\"\n",
    "with open('sample.txt', 'w') as file:\n",
    "    file.write(sample_text)\n",
    "file_path = 'sample.txt'\n",
    "extracted_dates = extract_dates_from_file(file_path)\n",
    "print(\"Extracted dates:\", extracted_dates)"
   ]
  },
  {
   "cell_type": "code",
   "execution_count": 57,
   "id": "46a333f4",
   "metadata": {},
   "outputs": [
    {
     "name": "stdout",
     "output_type": "stream",
     "text": [
      " following example creates  ArrayList  a capacity   elements. 4 elements   added   ArrayList   ArrayList  trimmed accordingly.\n"
     ]
    }
   ],
   "source": [
    "#answer 30\n",
    "def remove_short_words(text):\n",
    "    pattern = re.compile(r'\\b\\w{2,4}\\b')\n",
    "    result = pattern.sub('', text)\n",
    "    return result\n",
    "sample_text = \"The following example creates an ArrayList with a capacity of 50 elements. 4 elements are then added to the ArrayList and the ArrayList is trimmed accordingly.\"\n",
    "output_text = remove_short_words(sample_text)\n",
    "print(output_text)"
   ]
  },
  {
   "cell_type": "code",
   "execution_count": null,
   "id": "7d63b229",
   "metadata": {},
   "outputs": [],
   "source": []
  }
 ],
 "metadata": {
  "kernelspec": {
   "display_name": "Python 3 (ipykernel)",
   "language": "python",
   "name": "python3"
  },
  "language_info": {
   "codemirror_mode": {
    "name": "ipython",
    "version": 3
   },
   "file_extension": ".py",
   "mimetype": "text/x-python",
   "name": "python",
   "nbconvert_exporter": "python",
   "pygments_lexer": "ipython3",
   "version": "3.11.5"
  }
 },
 "nbformat": 4,
 "nbformat_minor": 5
}
