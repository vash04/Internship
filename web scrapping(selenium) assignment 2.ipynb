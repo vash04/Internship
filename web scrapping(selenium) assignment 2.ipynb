{
 "cells": [
  {
   "cell_type": "code",
   "execution_count": 1,
   "id": "553856b7",
   "metadata": {},
   "outputs": [],
   "source": [
    "#job role = data scientitst(10)\n",
    "#job title\n",
    "#location\n",
    "#company\n",
    "#experience "
   ]
  },
  {
   "cell_type": "code",
   "execution_count": 147,
   "id": "08350d1a",
   "metadata": {},
   "outputs": [],
   "source": [
    "import selenium\n",
    "from selenium import webdriver\n",
    "import pandas as pd\n",
    "import warnings\n",
    "warnings.filterwarnings('ignore')\n",
    "from selenium.webdriver.common.by import By\n",
    "import time"
   ]
  },
  {
   "cell_type": "code",
   "execution_count": 30,
   "id": "2ac4444b",
   "metadata": {},
   "outputs": [],
   "source": [
    "#answer 1\n",
    "driver=webdriver.Chrome()"
   ]
  },
  {
   "cell_type": "code",
   "execution_count": 31,
   "id": "f472cfcb",
   "metadata": {},
   "outputs": [],
   "source": [
    "driver.get('https://www.naukri.com/')"
   ]
  },
  {
   "cell_type": "code",
   "execution_count": 32,
   "id": "f30e9f4c",
   "metadata": {},
   "outputs": [],
   "source": [
    "designation=driver.find_element(By.CLASS_NAME, \"suggestor-input \")\n",
    "designation.send_keys('Data Scientist')"
   ]
  },
  {
   "cell_type": "code",
   "execution_count": 33,
   "id": "43c71154",
   "metadata": {},
   "outputs": [],
   "source": [
    "location=driver.find_element(By.XPATH, \"/html/body/div[1]/div[7]/div/div/div[5]/div/div/div/div[1]/div/input\")\n",
    "location.send_keys('Delhi/NCR')"
   ]
  },
  {
   "cell_type": "code",
   "execution_count": 34,
   "id": "d734cb62",
   "metadata": {},
   "outputs": [],
   "source": [
    "search=driver.find_element(By.CLASS_NAME, \"qsbSubmit\")\n",
    "search.click()"
   ]
  },
  {
   "cell_type": "code",
   "execution_count": 35,
   "id": "a52974bb",
   "metadata": {},
   "outputs": [],
   "source": [
    "location_filter=driver.find_element(By.XPATH, \"/html/body/div/div/main/div[1]/div[1]/div/div/div[2]/div[14]/div[2]/div[1]/label/p/span[1]\")\n",
    "location_filter.click()"
   ]
  },
  {
   "cell_type": "code",
   "execution_count": 36,
   "id": "23c6be24",
   "metadata": {},
   "outputs": [],
   "source": [
    "salary_filter=driver.find_element(By.XPATH, \"/html/body/div/div/main/div[1]/div[1]/div/div/div[2]/div[5]/div[2]/div[2]/label/p/span[1]\")\n",
    "salary_filter.click()"
   ]
  },
  {
   "cell_type": "code",
   "execution_count": 37,
   "id": "e5661441",
   "metadata": {},
   "outputs": [],
   "source": [
    "job_title=[]\n",
    "location=[]\n",
    "company=[]\n",
    "experience=[]"
   ]
  },
  {
   "cell_type": "code",
   "execution_count": 38,
   "id": "9e1003ba",
   "metadata": {},
   "outputs": [
    {
     "name": "stdout",
     "output_type": "stream",
     "text": [
      "['Data Scientist', 'Data Scientist: Artificial Intelligence', 'Data Scientist (AI/ML)|| US Based MNC || Noida', 'Data Analyst', 'Snowflake Data Engineer', '', '', '', 'Data Scientist/Data Analyst - LLM', 'Data Scientist', 'Data Scientist', 'Data Scientist', 'Data Scientist', 'Data Scientist (Telco)', 'Data Analyst & Data Scientist', 'Data Scientist', 'Data Scientist', 'Data scientist', 'Data Scientist', 'Data Scientist', 'Data Scientist', 'Data Scientist', 'Data Scientist', 'Data Scientist', 'Data Scientist- LLM/NLP']\n",
      "['Kolkata, Mumbai, New Delhi, Hyderabad, Pune, Chennai, Bengaluru', 'Gurugram', 'Hybrid - Noida', 'Gurgaon/Gurugram', '', '', '', '', 'Kolkata, Mumbai, New Delhi, Hyderabad, Pune, Chennai, Bengaluru', 'Kolkata, Mumbai, New Delhi, Hyderabad, Pune, Chennai, Bengaluru', 'Gurugram', 'Ghaziabad', 'Noida', 'Gurugram, Bengaluru', 'Gurugram', 'New Delhi', 'Gurugram', 'Gurugram', 'Noida', 'Noida', 'Kolkata, Mumbai, New Delhi, Hyderabad, Pune, Chennai, Bengaluru', 'Kolkata, Mumbai, New Delhi, Hyderabad, Pune, Chennai, Bengaluru', 'Kolkata, Mumbai, New Delhi, Hyderabad, Pune, Chennai, Bengaluru', 'Kolkata, Mumbai, New Delhi, Hyderabad, Pune, Chennai, Bengaluru', 'Kolkata, Mumbai, New Delhi, Hyderabad, Pune, Chennai, Bengaluru']\n",
      "['Nityo Infotech\\n3.2\\n663 Reviews', 'IBM\\n4.1\\n20415 Reviews', 'US based Software Company\\nPosted by Bean Hr Consulting', 'Large Analytics MNC', 'Leading Indian IT Service Company', '', '', '', 'Hexaconcepts', 'Essenware\\n4.7\\n4 Reviews', 'Biz Tech Consultants\\n3.5\\n3 Reviews', 'Biz Tech Consultants\\n3.5\\n3 Reviews', 'Biz Tech Consultants\\n3.5\\n3 Reviews', 'PayU\\n3.6\\n380 Reviews', 'Varuna Integrated Logistics\\n3.7\\n360 Reviews', 'Sociomix', 'Collegedunia\\n2.9\\n506 Reviews', 'Growthjockey\\n4.3\\n7 Reviews', 'Innovaccer\\n3.0\\n301 Reviews', 'Times Internet\\n3.6\\n620 Reviews', 'Intense Technologies\\n4.1\\n125 Reviews', 'Digital Glyde\\n3.8\\n6 Reviews', 'Monnai', 'Futurism Technologies\\n3.5\\n77 Reviews', 'Simetrik']\n",
      "['3-7 Yrs', '3-7 Yrs', '3-5 Yrs', '0-1 Yrs', '3-7 Yrs', '', '', '', '2-6 Yrs', '2-5 Yrs', '3-8 Yrs', '3-8 Yrs', '3-8 Yrs', '2-7 Yrs', '3-8 Yrs', '0-5 Yrs', '0-2 Yrs', '0-1 Yrs', '2-7 Yrs', '3-8 Yrs', '3-7 Yrs', '3-7 Yrs', '3-7 Yrs', '2-4 Yrs', '2-3 Yrs']\n"
     ]
    }
   ],
   "source": [
    "for i in driver.find_elements(By.XPATH, '//a[@class=\"title \"]'):\n",
    "    job_title.append(i.text)\n",
    "print(job_title)\n",
    "\n",
    "for i in driver.find_elements(By.XPATH, '//span[@class=\"loc-wrap ver-line\"]'):\n",
    "    location.append(i.text)\n",
    "print(location)\n",
    "\n",
    "for i in driver.find_elements(By.XPATH, '//div[@class=\" row2\"]'):\n",
    "    company.append(i.text)\n",
    "print(company)\n",
    "\n",
    "for i in driver.find_elements(By.XPATH, '//span[@class=\"exp-wrap\"]'):\n",
    "    experience.append(i.text)\n",
    "print(experience)"
   ]
  },
  {
   "cell_type": "code",
   "execution_count": 39,
   "id": "77c6905a",
   "metadata": {},
   "outputs": [
    {
     "data": {
      "text/plain": [
       "(25, 25, 25, 25)"
      ]
     },
     "execution_count": 39,
     "metadata": {},
     "output_type": "execute_result"
    }
   ],
   "source": [
    "len(job_title), len(location), len(company), len(experience)"
   ]
  },
  {
   "cell_type": "code",
   "execution_count": 48,
   "id": "866cf02b",
   "metadata": {},
   "outputs": [
    {
     "data": {
      "text/html": [
       "<div>\n",
       "<style scoped>\n",
       "    .dataframe tbody tr th:only-of-type {\n",
       "        vertical-align: middle;\n",
       "    }\n",
       "\n",
       "    .dataframe tbody tr th {\n",
       "        vertical-align: top;\n",
       "    }\n",
       "\n",
       "    .dataframe thead th {\n",
       "        text-align: right;\n",
       "    }\n",
       "</style>\n",
       "<table border=\"1\" class=\"dataframe\">\n",
       "  <thead>\n",
       "    <tr style=\"text-align: right;\">\n",
       "      <th></th>\n",
       "      <th>Job Title</th>\n",
       "      <th>Location</th>\n",
       "      <th>Company</th>\n",
       "      <th>Experience</th>\n",
       "    </tr>\n",
       "  </thead>\n",
       "  <tbody>\n",
       "    <tr>\n",
       "      <th>0</th>\n",
       "      <td>Data Scientist</td>\n",
       "      <td>Kolkata, Mumbai, New Delhi, Hyderabad, Pune, C...</td>\n",
       "      <td>Nityo Infotech\\n3.2\\n663 Reviews</td>\n",
       "      <td>3-7 Yrs</td>\n",
       "    </tr>\n",
       "    <tr>\n",
       "      <th>1</th>\n",
       "      <td>Data Scientist: Artificial Intelligence</td>\n",
       "      <td>Gurugram</td>\n",
       "      <td>IBM\\n4.1\\n20415 Reviews</td>\n",
       "      <td>3-7 Yrs</td>\n",
       "    </tr>\n",
       "    <tr>\n",
       "      <th>2</th>\n",
       "      <td>Data Scientist (AI/ML)|| US Based MNC || Noida</td>\n",
       "      <td>Hybrid - Noida</td>\n",
       "      <td>US based Software Company\\nPosted by Bean Hr C...</td>\n",
       "      <td>3-5 Yrs</td>\n",
       "    </tr>\n",
       "    <tr>\n",
       "      <th>3</th>\n",
       "      <td>Data Analyst</td>\n",
       "      <td>Gurgaon/Gurugram</td>\n",
       "      <td>Large Analytics MNC</td>\n",
       "      <td>0-1 Yrs</td>\n",
       "    </tr>\n",
       "    <tr>\n",
       "      <th>4</th>\n",
       "      <td>Snowflake Data Engineer</td>\n",
       "      <td></td>\n",
       "      <td>Leading Indian IT Service Company</td>\n",
       "      <td>3-7 Yrs</td>\n",
       "    </tr>\n",
       "    <tr>\n",
       "      <th>5</th>\n",
       "      <td></td>\n",
       "      <td></td>\n",
       "      <td></td>\n",
       "      <td></td>\n",
       "    </tr>\n",
       "    <tr>\n",
       "      <th>6</th>\n",
       "      <td></td>\n",
       "      <td></td>\n",
       "      <td></td>\n",
       "      <td></td>\n",
       "    </tr>\n",
       "    <tr>\n",
       "      <th>7</th>\n",
       "      <td></td>\n",
       "      <td></td>\n",
       "      <td></td>\n",
       "      <td></td>\n",
       "    </tr>\n",
       "    <tr>\n",
       "      <th>8</th>\n",
       "      <td>Data Scientist/Data Analyst - LLM</td>\n",
       "      <td>Kolkata, Mumbai, New Delhi, Hyderabad, Pune, C...</td>\n",
       "      <td>Hexaconcepts</td>\n",
       "      <td>2-6 Yrs</td>\n",
       "    </tr>\n",
       "    <tr>\n",
       "      <th>9</th>\n",
       "      <td>Data Scientist</td>\n",
       "      <td>Kolkata, Mumbai, New Delhi, Hyderabad, Pune, C...</td>\n",
       "      <td>Essenware\\n4.7\\n4 Reviews</td>\n",
       "      <td>2-5 Yrs</td>\n",
       "    </tr>\n",
       "  </tbody>\n",
       "</table>\n",
       "</div>"
      ],
      "text/plain": [
       "                                        Job Title  \\\n",
       "0                                  Data Scientist   \n",
       "1         Data Scientist: Artificial Intelligence   \n",
       "2  Data Scientist (AI/ML)|| US Based MNC || Noida   \n",
       "3                                    Data Analyst   \n",
       "4                         Snowflake Data Engineer   \n",
       "5                                                   \n",
       "6                                                   \n",
       "7                                                   \n",
       "8               Data Scientist/Data Analyst - LLM   \n",
       "9                                  Data Scientist   \n",
       "\n",
       "                                            Location  \\\n",
       "0  Kolkata, Mumbai, New Delhi, Hyderabad, Pune, C...   \n",
       "1                                           Gurugram   \n",
       "2                                     Hybrid - Noida   \n",
       "3                                   Gurgaon/Gurugram   \n",
       "4                                                      \n",
       "5                                                      \n",
       "6                                                      \n",
       "7                                                      \n",
       "8  Kolkata, Mumbai, New Delhi, Hyderabad, Pune, C...   \n",
       "9  Kolkata, Mumbai, New Delhi, Hyderabad, Pune, C...   \n",
       "\n",
       "                                             Company Experience  \n",
       "0                   Nityo Infotech\\n3.2\\n663 Reviews    3-7 Yrs  \n",
       "1                            IBM\\n4.1\\n20415 Reviews    3-7 Yrs  \n",
       "2  US based Software Company\\nPosted by Bean Hr C...    3-5 Yrs  \n",
       "3                                Large Analytics MNC    0-1 Yrs  \n",
       "4                  Leading Indian IT Service Company    3-7 Yrs  \n",
       "5                                                                \n",
       "6                                                                \n",
       "7                                                                \n",
       "8                                       Hexaconcepts    2-6 Yrs  \n",
       "9                          Essenware\\n4.7\\n4 Reviews    2-5 Yrs  "
      ]
     },
     "execution_count": 48,
     "metadata": {},
     "output_type": "execute_result"
    }
   ],
   "source": [
    "df=pd.DataFrame({'Job Title':job_title, 'Location':location, 'Company':company, 'Experience':experience})\n",
    "df.iloc[0:10]"
   ]
  },
  {
   "cell_type": "code",
   "execution_count": 30,
   "id": "6c83f311",
   "metadata": {},
   "outputs": [],
   "source": [
    "#answer 2\n",
    "driver=webdriver.Chrome()"
   ]
  },
  {
   "cell_type": "code",
   "execution_count": 4,
   "id": "1caaeb3b",
   "metadata": {},
   "outputs": [],
   "source": [
    "driver.get('https://www.shine.com/')"
   ]
  },
  {
   "cell_type": "code",
   "execution_count": null,
   "id": "fe40d677",
   "metadata": {},
   "outputs": [],
   "source": [
    "designation=driver.find_element(By.XPATH, '')\n",
    "designation.send_keys('Data Analyst')\n",
    "#a hidden popup is coming out of nowhere as i am clicking the inspect button not sure what to do"
   ]
  },
  {
   "cell_type": "code",
   "execution_count": 40,
   "id": "301a741a",
   "metadata": {},
   "outputs": [],
   "source": [
    "#answer 3\n",
    "driver=webdriver.Chrome()"
   ]
  },
  {
   "cell_type": "code",
   "execution_count": 41,
   "id": "75485032",
   "metadata": {},
   "outputs": [],
   "source": [
    "driver.get('https://www.flipkart.com/apple-iphone-11-black-64-gb/product-reviews/itm4e5041ba101fd?pid=MOBFWQ6BXGJCEYNY&lid=LSTMOBFWQ6BXGJCEYNYZXSHRJ&marketplace=FLIPKART')"
   ]
  },
  {
   "cell_type": "code",
   "execution_count": 42,
   "id": "c59caccf",
   "metadata": {},
   "outputs": [],
   "source": [
    "rating=[]\n",
    "review_summary=[]\n",
    "full_review=[]"
   ]
  },
  {
   "cell_type": "code",
   "execution_count": 46,
   "id": "d84da176",
   "metadata": {},
   "outputs": [
    {
     "ename": "NoSuchElementException",
     "evalue": "Message: no such element: Unable to locate element: {\"method\":\"xpath\",\"selector\":\"/html/body/div/div/div[3]/div/div/div[2]/div[13]/div/div/nav/a[11]/span\"}\n  (Session info: chrome=128.0.6613.138); For documentation on this error, please visit: https://www.selenium.dev/documentation/webdriver/troubleshooting/errors#no-such-element-exception\nStacktrace:\n\tGetHandleVerifier [0x00007FF737759412+29090]\n\t(No symbol) [0x00007FF7376CE239]\n\t(No symbol) [0x00007FF73758B1DA]\n\t(No symbol) [0x00007FF7375DEFE7]\n\t(No symbol) [0x00007FF7375DF23C]\n\t(No symbol) [0x00007FF7376297C7]\n\t(No symbol) [0x00007FF73760672F]\n\t(No symbol) [0x00007FF7376265A2]\n\t(No symbol) [0x00007FF737606493]\n\t(No symbol) [0x00007FF7375D09D1]\n\t(No symbol) [0x00007FF7375D1B31]\n\tGetHandleVerifier [0x00007FF737A7871D+3302573]\n\tGetHandleVerifier [0x00007FF737AC4243+3612627]\n\tGetHandleVerifier [0x00007FF737ABA417+3572135]\n\tGetHandleVerifier [0x00007FF737815EB6+801862]\n\t(No symbol) [0x00007FF7376D945F]\n\t(No symbol) [0x00007FF7376D4FB4]\n\t(No symbol) [0x00007FF7376D5140]\n\t(No symbol) [0x00007FF7376C461F]\n\tBaseThreadInitThunk [0x00007FFD27C9257D+29]\n\tRtlUserThreadStart [0x00007FFD2908AF28+40]\n",
     "output_type": "error",
     "traceback": [
      "\u001b[1;31m---------------------------------------------------------------------------\u001b[0m",
      "\u001b[1;31mNoSuchElementException\u001b[0m                    Traceback (most recent call last)",
      "Cell \u001b[1;32mIn[46], line 7\u001b[0m\n\u001b[0;32m      5\u001b[0m \u001b[38;5;28;01mfor\u001b[39;00m i \u001b[38;5;129;01min\u001b[39;00m driver\u001b[38;5;241m.\u001b[39mfind_elements(By\u001b[38;5;241m.\u001b[39mXPATH, \u001b[38;5;124m'\u001b[39m\u001b[38;5;124m//div[@class=\u001b[39m\u001b[38;5;124m\"\u001b[39m\u001b[38;5;124mXQDdHH Ga3i8K\u001b[39m\u001b[38;5;124m\"\u001b[39m\u001b[38;5;124m]\u001b[39m\u001b[38;5;124m'\u001b[39m):\n\u001b[0;32m      6\u001b[0m     rating\u001b[38;5;241m.\u001b[39mappend(i\u001b[38;5;241m.\u001b[39mtext)\n\u001b[1;32m----> 7\u001b[0m next_button\u001b[38;5;241m=\u001b[39mdriver\u001b[38;5;241m.\u001b[39mfind_element(By\u001b[38;5;241m.\u001b[39mXPATH, \u001b[38;5;124m'\u001b[39m\u001b[38;5;124m/html/body/div/div/div[3]/div/div/div[2]/div[13]/div/div/nav/a[11]/span\u001b[39m\u001b[38;5;124m'\u001b[39m)\n\u001b[0;32m      8\u001b[0m next_button\u001b[38;5;241m.\u001b[39mclick()\n\u001b[0;32m      9\u001b[0m time\u001b[38;5;241m.\u001b[39msleep(\u001b[38;5;241m10\u001b[39m)\n",
      "File \u001b[1;32m~\\anaconda3\\Lib\\site-packages\\selenium\\webdriver\\remote\\webdriver.py:748\u001b[0m, in \u001b[0;36mWebDriver.find_element\u001b[1;34m(self, by, value)\u001b[0m\n\u001b[0;32m    745\u001b[0m     by \u001b[38;5;241m=\u001b[39m By\u001b[38;5;241m.\u001b[39mCSS_SELECTOR\n\u001b[0;32m    746\u001b[0m     value \u001b[38;5;241m=\u001b[39m \u001b[38;5;124mf\u001b[39m\u001b[38;5;124m'\u001b[39m\u001b[38;5;124m[name=\u001b[39m\u001b[38;5;124m\"\u001b[39m\u001b[38;5;132;01m{\u001b[39;00mvalue\u001b[38;5;132;01m}\u001b[39;00m\u001b[38;5;124m\"\u001b[39m\u001b[38;5;124m]\u001b[39m\u001b[38;5;124m'\u001b[39m\n\u001b[1;32m--> 748\u001b[0m \u001b[38;5;28;01mreturn\u001b[39;00m \u001b[38;5;28mself\u001b[39m\u001b[38;5;241m.\u001b[39mexecute(Command\u001b[38;5;241m.\u001b[39mFIND_ELEMENT, {\u001b[38;5;124m\"\u001b[39m\u001b[38;5;124musing\u001b[39m\u001b[38;5;124m\"\u001b[39m: by, \u001b[38;5;124m\"\u001b[39m\u001b[38;5;124mvalue\u001b[39m\u001b[38;5;124m\"\u001b[39m: value})[\u001b[38;5;124m\"\u001b[39m\u001b[38;5;124mvalue\u001b[39m\u001b[38;5;124m\"\u001b[39m]\n",
      "File \u001b[1;32m~\\anaconda3\\Lib\\site-packages\\selenium\\webdriver\\remote\\webdriver.py:354\u001b[0m, in \u001b[0;36mWebDriver.execute\u001b[1;34m(self, driver_command, params)\u001b[0m\n\u001b[0;32m    352\u001b[0m response \u001b[38;5;241m=\u001b[39m \u001b[38;5;28mself\u001b[39m\u001b[38;5;241m.\u001b[39mcommand_executor\u001b[38;5;241m.\u001b[39mexecute(driver_command, params)\n\u001b[0;32m    353\u001b[0m \u001b[38;5;28;01mif\u001b[39;00m response:\n\u001b[1;32m--> 354\u001b[0m     \u001b[38;5;28mself\u001b[39m\u001b[38;5;241m.\u001b[39merror_handler\u001b[38;5;241m.\u001b[39mcheck_response(response)\n\u001b[0;32m    355\u001b[0m     response[\u001b[38;5;124m\"\u001b[39m\u001b[38;5;124mvalue\u001b[39m\u001b[38;5;124m\"\u001b[39m] \u001b[38;5;241m=\u001b[39m \u001b[38;5;28mself\u001b[39m\u001b[38;5;241m.\u001b[39m_unwrap_value(response\u001b[38;5;241m.\u001b[39mget(\u001b[38;5;124m\"\u001b[39m\u001b[38;5;124mvalue\u001b[39m\u001b[38;5;124m\"\u001b[39m, \u001b[38;5;28;01mNone\u001b[39;00m))\n\u001b[0;32m    356\u001b[0m     \u001b[38;5;28;01mreturn\u001b[39;00m response\n",
      "File \u001b[1;32m~\\anaconda3\\Lib\\site-packages\\selenium\\webdriver\\remote\\errorhandler.py:229\u001b[0m, in \u001b[0;36mErrorHandler.check_response\u001b[1;34m(self, response)\u001b[0m\n\u001b[0;32m    227\u001b[0m         alert_text \u001b[38;5;241m=\u001b[39m value[\u001b[38;5;124m\"\u001b[39m\u001b[38;5;124malert\u001b[39m\u001b[38;5;124m\"\u001b[39m]\u001b[38;5;241m.\u001b[39mget(\u001b[38;5;124m\"\u001b[39m\u001b[38;5;124mtext\u001b[39m\u001b[38;5;124m\"\u001b[39m)\n\u001b[0;32m    228\u001b[0m     \u001b[38;5;28;01mraise\u001b[39;00m exception_class(message, screen, stacktrace, alert_text)  \u001b[38;5;66;03m# type: ignore[call-arg]  # mypy is not smart enough here\u001b[39;00m\n\u001b[1;32m--> 229\u001b[0m \u001b[38;5;28;01mraise\u001b[39;00m exception_class(message, screen, stacktrace)\n",
      "\u001b[1;31mNoSuchElementException\u001b[0m: Message: no such element: Unable to locate element: {\"method\":\"xpath\",\"selector\":\"/html/body/div/div/div[3]/div/div/div[2]/div[13]/div/div/nav/a[11]/span\"}\n  (Session info: chrome=128.0.6613.138); For documentation on this error, please visit: https://www.selenium.dev/documentation/webdriver/troubleshooting/errors#no-such-element-exception\nStacktrace:\n\tGetHandleVerifier [0x00007FF737759412+29090]\n\t(No symbol) [0x00007FF7376CE239]\n\t(No symbol) [0x00007FF73758B1DA]\n\t(No symbol) [0x00007FF7375DEFE7]\n\t(No symbol) [0x00007FF7375DF23C]\n\t(No symbol) [0x00007FF7376297C7]\n\t(No symbol) [0x00007FF73760672F]\n\t(No symbol) [0x00007FF7376265A2]\n\t(No symbol) [0x00007FF737606493]\n\t(No symbol) [0x00007FF7375D09D1]\n\t(No symbol) [0x00007FF7375D1B31]\n\tGetHandleVerifier [0x00007FF737A7871D+3302573]\n\tGetHandleVerifier [0x00007FF737AC4243+3612627]\n\tGetHandleVerifier [0x00007FF737ABA417+3572135]\n\tGetHandleVerifier [0x00007FF737815EB6+801862]\n\t(No symbol) [0x00007FF7376D945F]\n\t(No symbol) [0x00007FF7376D4FB4]\n\t(No symbol) [0x00007FF7376D5140]\n\t(No symbol) [0x00007FF7376C461F]\n\tBaseThreadInitThunk [0x00007FFD27C9257D+29]\n\tRtlUserThreadStart [0x00007FFD2908AF28+40]\n"
     ]
    }
   ],
   "source": [
    "rating=[]\n",
    "start=0\n",
    "end=10\n",
    "for page in range(start, end):\n",
    "    for i in driver.find_elements(By.XPATH, '//div[@class=\"XQDdHH Ga3i8K\"]'):\n",
    "        rating.append(i.text)\n",
    "    next_button=driver.find_element(By.XPATH, '/html/body/div/div/div[3]/div/div/div[2]/div[13]/div/div/nav/a[11]/span')\n",
    "    next_button.click()\n",
    "    time.sleep(10)"
   ]
  },
  {
   "cell_type": "code",
   "execution_count": 27,
   "id": "d892dbcd",
   "metadata": {},
   "outputs": [],
   "source": [
    "#i am not sure why it is throwing this error!"
   ]
  },
  {
   "cell_type": "code",
   "execution_count": 47,
   "id": "ee2fbe9f",
   "metadata": {},
   "outputs": [],
   "source": [
    "next_button=driver.find_element(By.XPATH, '/html/body/div/div/div[3]/div/div/div[2]/div[13]/div/div/nav/a[12]/span')\n",
    "next_button.click()"
   ]
  },
  {
   "cell_type": "code",
   "execution_count": 48,
   "id": "ee543dd6",
   "metadata": {},
   "outputs": [],
   "source": [
    "#while this is executing properly"
   ]
  },
  {
   "cell_type": "code",
   "execution_count": 105,
   "id": "57b77cdc",
   "metadata": {},
   "outputs": [],
   "source": [
    "#answer 4\n",
    "driver=webdriver.Chrome()"
   ]
  },
  {
   "cell_type": "code",
   "execution_count": 106,
   "id": "2c9a143b",
   "metadata": {},
   "outputs": [],
   "source": [
    "driver.get('https://www.flipkart.com/search?q=sneaker&otracker=search&otracker1=search&marketplace=FLIPKART&as-show=on&as=off')"
   ]
  },
  {
   "cell_type": "code",
   "execution_count": 107,
   "id": "d7c3964f",
   "metadata": {},
   "outputs": [],
   "source": [
    "brand=[]\n",
    "product_discription=[]\n",
    "price=[]"
   ]
  },
  {
   "cell_type": "code",
   "execution_count": 108,
   "id": "c2948aed",
   "metadata": {},
   "outputs": [
    {
     "data": {
      "text/plain": [
       "['lejano',\n",
       " 'BRUTON',\n",
       " 'Sparx',\n",
       " 'HRX by Hrithik Roshan',\n",
       " 'Xtoon',\n",
       " 'BRUTON',\n",
       " 'Bata',\n",
       " 'HRX by Hrithik Roshan',\n",
       " 'KILLER',\n",
       " 'NIKE',\n",
       " 'BRUTON',\n",
       " 'BRUTON',\n",
       " 'Roadster',\n",
       " 'HRX by Hrithik Roshan',\n",
       " 'Bata',\n",
       " 'Roadster',\n",
       " 'BRUTON',\n",
       " 'CAMPUS',\n",
       " 'HRX by Hrithik Roshan',\n",
       " 'WROGN',\n",
       " 'MEGPAR',\n",
       " 'MEGPAR',\n",
       " 'Red Tape',\n",
       " 'Red Tape',\n",
       " 'CAMPUS',\n",
       " 'alpaargo',\n",
       " 'CAMPUS',\n",
       " 'JUMPLITE',\n",
       " 'Red Tape',\n",
       " 'PUMA',\n",
       " 'CAMPUS',\n",
       " 'CAMPUS',\n",
       " 'PUMA',\n",
       " 'Hida',\n",
       " 'CAMPUS',\n",
       " 'asian',\n",
       " 'AMICO',\n",
       " 'HRX by Hrithik Roshan',\n",
       " 'PUMA',\n",
       " 'RECSOR']"
      ]
     },
     "execution_count": 108,
     "metadata": {},
     "output_type": "execute_result"
    }
   ],
   "source": [
    "for i in driver.find_elements(By.CLASS_NAME, 'syl9yP'):\n",
    "    brand.append(i.text)\n",
    "brand"
   ]
  },
  {
   "cell_type": "code",
   "execution_count": 109,
   "id": "b8604d8b",
   "metadata": {},
   "outputs": [
    {
     "data": {
      "text/plain": [
       "['Sneakers For Men',\n",
       " 'Modern Trendy Sneakers Shoes Sneakers For Men',\n",
       " 'SM 784 | Stylish, Comfortable | Sneakers For Men',\n",
       " 'Rerooted Classics Sneakers For Men',\n",
       " \"Xtoon comfortable casual shoes for men's Sneakers For M...\",\n",
       " 'Lite Casual Shoes Sneakers For Men',\n",
       " 'SPARK E 24 Sneakers For Men',\n",
       " 'Rerooted Classics Sneakers For Men',\n",
       " 'Casual Sneaker Shoes For Men | Enhanced Comfort with Cu...',\n",
       " 'Court Royale Sneakers For Men',\n",
       " 'Lite Casual Shoes Sneakers For Men',\n",
       " 'Lattest Sneakers Shoe Sneakers For Men',\n",
       " 'Sneakers For Men',\n",
       " 'Cityscape Sneakers For Men',\n",
       " 'DASH E 24 Sneakers For Men',\n",
       " 'Casual Sneakers For Men',\n",
       " 'Combo Pack of 2 Trendy & Stylish Casual Shoes Sneakers ...',\n",
       " 'FLASH Sneakers For Men',\n",
       " 'Club Culture Sneakers For Men',\n",
       " 'Sneakers For Men',\n",
       " 'White New Stylish Look Comfortable Casual Shoes Womens ...',\n",
       " 'Stylish Pink Casual Sneakers For Women',\n",
       " 'Sneaker Casual Shoes For Men | Soft Cushion Insole, Sli...',\n",
       " 'Sneaker Casual Shoes For Men | Soft Cushion Insole, Sli...',\n",
       " 'OG-D3 Sneakers For Men',\n",
       " 'Geniune Synthetic Leather Lightweight,Comfort,Trendy,Wa...',\n",
       " 'OG-05 Sneakers For Men',\n",
       " 'Lightweight Comfort Summer Trendy Premium Stylish Party...',\n",
       " 'Sneaker Casual Shoes For Men | Soft Cushion Insole, Sli...',\n",
       " 'ST Runner v3 L Sneakers For Men',\n",
       " 'OG-11 Sneakers For Men',\n",
       " 'CAMP-CLINT Sneakers For Women',\n",
       " 'Rungryp Sneakers For Men',\n",
       " 'Sneakers For Men',\n",
       " 'OG-D3 Sneakers For Men',\n",
       " 'Boston-01 Chunky Sneakers,Loafers,Walking Shoes Sneaker...',\n",
       " 'Sneakers For Men',\n",
       " 'Sneakers For Men',\n",
       " 'Club 5v5 SD Sneakers For Men',\n",
       " 'Fashionable I Stylish I Casual I Extra Lightweight I Su...']"
      ]
     },
     "execution_count": 109,
     "metadata": {},
     "output_type": "execute_result"
    }
   ],
   "source": [
    "for i in driver.find_elements(By.CLASS_NAME, 'WKTcLC'):\n",
    "    product_discription.append(i.text)\n",
    "product_discription"
   ]
  },
  {
   "cell_type": "code",
   "execution_count": 110,
   "id": "ca1963ee",
   "metadata": {},
   "outputs": [
    {
     "data": {
      "text/plain": [
       "['₹459',\n",
       " '₹299',\n",
       " '₹584',\n",
       " '₹814',\n",
       " '₹407',\n",
       " '₹478',\n",
       " '₹619',\n",
       " '₹1,047',\n",
       " '₹849',\n",
       " '₹4,495',\n",
       " '₹499',\n",
       " '₹279',\n",
       " '₹1,517',\n",
       " '₹726',\n",
       " '₹619',\n",
       " '₹1,403',\n",
       " '₹499',\n",
       " '₹1,374',\n",
       " '₹902',\n",
       " '₹362',\n",
       " '₹429',\n",
       " '₹429',\n",
       " '₹1,079',\n",
       " '₹1,079',\n",
       " '₹513',\n",
       " '₹599',\n",
       " '₹1,374',\n",
       " '₹859',\n",
       " '₹1,079',\n",
       " '₹5,224',\n",
       " '₹1,311',\n",
       " '₹1,249',\n",
       " '₹2,350',\n",
       " '₹569',\n",
       " '₹646',\n",
       " '₹799',\n",
       " '₹429',\n",
       " '₹720',\n",
       " '₹3,149',\n",
       " '₹699',\n",
       " '₹279',\n",
       " '₹726',\n",
       " '₹407',\n",
       " '₹1,374',\n",
       " '₹362']"
      ]
     },
     "execution_count": 110,
     "metadata": {},
     "output_type": "execute_result"
    }
   ],
   "source": [
    "for i in driver.find_elements(By.CLASS_NAME, 'Nx9bqj'):\n",
    "    price.append(i.text)\n",
    "price\n",
    "    "
   ]
  },
  {
   "cell_type": "code",
   "execution_count": 118,
   "id": "3286251e",
   "metadata": {},
   "outputs": [
    {
     "data": {
      "text/html": [
       "<div>\n",
       "<style scoped>\n",
       "    .dataframe tbody tr th:only-of-type {\n",
       "        vertical-align: middle;\n",
       "    }\n",
       "\n",
       "    .dataframe tbody tr th {\n",
       "        vertical-align: top;\n",
       "    }\n",
       "\n",
       "    .dataframe thead th {\n",
       "        text-align: right;\n",
       "    }\n",
       "</style>\n",
       "<table border=\"1\" class=\"dataframe\">\n",
       "  <thead>\n",
       "    <tr style=\"text-align: right;\">\n",
       "      <th></th>\n",
       "      <th>Brand</th>\n",
       "      <th>Product Discription</th>\n",
       "      <th>Price</th>\n",
       "    </tr>\n",
       "  </thead>\n",
       "  <tbody>\n",
       "    <tr>\n",
       "      <th>0</th>\n",
       "      <td>lejano</td>\n",
       "      <td>Sneakers For Men</td>\n",
       "      <td>₹459</td>\n",
       "    </tr>\n",
       "    <tr>\n",
       "      <th>1</th>\n",
       "      <td>BRUTON</td>\n",
       "      <td>Modern Trendy Sneakers Shoes Sneakers For Men</td>\n",
       "      <td>₹299</td>\n",
       "    </tr>\n",
       "    <tr>\n",
       "      <th>2</th>\n",
       "      <td>Sparx</td>\n",
       "      <td>SM 784 | Stylish, Comfortable | Sneakers For Men</td>\n",
       "      <td>₹584</td>\n",
       "    </tr>\n",
       "    <tr>\n",
       "      <th>3</th>\n",
       "      <td>HRX by Hrithik Roshan</td>\n",
       "      <td>Rerooted Classics Sneakers For Men</td>\n",
       "      <td>₹814</td>\n",
       "    </tr>\n",
       "    <tr>\n",
       "      <th>4</th>\n",
       "      <td>Xtoon</td>\n",
       "      <td>Xtoon comfortable casual shoes for men's Sneak...</td>\n",
       "      <td>₹407</td>\n",
       "    </tr>\n",
       "    <tr>\n",
       "      <th>5</th>\n",
       "      <td>BRUTON</td>\n",
       "      <td>Lite Casual Shoes Sneakers For Men</td>\n",
       "      <td>₹478</td>\n",
       "    </tr>\n",
       "    <tr>\n",
       "      <th>6</th>\n",
       "      <td>Bata</td>\n",
       "      <td>SPARK E 24 Sneakers For Men</td>\n",
       "      <td>₹619</td>\n",
       "    </tr>\n",
       "    <tr>\n",
       "      <th>7</th>\n",
       "      <td>HRX by Hrithik Roshan</td>\n",
       "      <td>Rerooted Classics Sneakers For Men</td>\n",
       "      <td>₹1,047</td>\n",
       "    </tr>\n",
       "    <tr>\n",
       "      <th>8</th>\n",
       "      <td>KILLER</td>\n",
       "      <td>Casual Sneaker Shoes For Men | Enhanced Comfor...</td>\n",
       "      <td>₹849</td>\n",
       "    </tr>\n",
       "    <tr>\n",
       "      <th>9</th>\n",
       "      <td>NIKE</td>\n",
       "      <td>Court Royale Sneakers For Men</td>\n",
       "      <td>₹4,495</td>\n",
       "    </tr>\n",
       "    <tr>\n",
       "      <th>10</th>\n",
       "      <td>BRUTON</td>\n",
       "      <td>Lite Casual Shoes Sneakers For Men</td>\n",
       "      <td>₹499</td>\n",
       "    </tr>\n",
       "    <tr>\n",
       "      <th>11</th>\n",
       "      <td>BRUTON</td>\n",
       "      <td>Lattest Sneakers Shoe Sneakers For Men</td>\n",
       "      <td>₹279</td>\n",
       "    </tr>\n",
       "    <tr>\n",
       "      <th>12</th>\n",
       "      <td>Roadster</td>\n",
       "      <td>Sneakers For Men</td>\n",
       "      <td>₹1,517</td>\n",
       "    </tr>\n",
       "    <tr>\n",
       "      <th>13</th>\n",
       "      <td>HRX by Hrithik Roshan</td>\n",
       "      <td>Cityscape Sneakers For Men</td>\n",
       "      <td>₹726</td>\n",
       "    </tr>\n",
       "    <tr>\n",
       "      <th>14</th>\n",
       "      <td>Bata</td>\n",
       "      <td>DASH E 24 Sneakers For Men</td>\n",
       "      <td>₹619</td>\n",
       "    </tr>\n",
       "    <tr>\n",
       "      <th>15</th>\n",
       "      <td>Roadster</td>\n",
       "      <td>Casual Sneakers For Men</td>\n",
       "      <td>₹1,403</td>\n",
       "    </tr>\n",
       "    <tr>\n",
       "      <th>16</th>\n",
       "      <td>BRUTON</td>\n",
       "      <td>Combo Pack of 2 Trendy &amp; Stylish Casual Shoes ...</td>\n",
       "      <td>₹499</td>\n",
       "    </tr>\n",
       "    <tr>\n",
       "      <th>17</th>\n",
       "      <td>CAMPUS</td>\n",
       "      <td>FLASH Sneakers For Men</td>\n",
       "      <td>₹1,374</td>\n",
       "    </tr>\n",
       "    <tr>\n",
       "      <th>18</th>\n",
       "      <td>HRX by Hrithik Roshan</td>\n",
       "      <td>Club Culture Sneakers For Men</td>\n",
       "      <td>₹902</td>\n",
       "    </tr>\n",
       "    <tr>\n",
       "      <th>19</th>\n",
       "      <td>WROGN</td>\n",
       "      <td>Sneakers For Men</td>\n",
       "      <td>₹362</td>\n",
       "    </tr>\n",
       "    <tr>\n",
       "      <th>20</th>\n",
       "      <td>MEGPAR</td>\n",
       "      <td>White New Stylish Look Comfortable Casual Shoe...</td>\n",
       "      <td>₹429</td>\n",
       "    </tr>\n",
       "    <tr>\n",
       "      <th>21</th>\n",
       "      <td>MEGPAR</td>\n",
       "      <td>Stylish Pink Casual Sneakers For Women</td>\n",
       "      <td>₹429</td>\n",
       "    </tr>\n",
       "    <tr>\n",
       "      <th>22</th>\n",
       "      <td>Red Tape</td>\n",
       "      <td>Sneaker Casual Shoes For Men | Soft Cushion In...</td>\n",
       "      <td>₹1,079</td>\n",
       "    </tr>\n",
       "    <tr>\n",
       "      <th>23</th>\n",
       "      <td>Red Tape</td>\n",
       "      <td>Sneaker Casual Shoes For Men | Soft Cushion In...</td>\n",
       "      <td>₹1,079</td>\n",
       "    </tr>\n",
       "    <tr>\n",
       "      <th>24</th>\n",
       "      <td>CAMPUS</td>\n",
       "      <td>OG-D3 Sneakers For Men</td>\n",
       "      <td>₹513</td>\n",
       "    </tr>\n",
       "    <tr>\n",
       "      <th>25</th>\n",
       "      <td>alpaargo</td>\n",
       "      <td>Geniune Synthetic Leather Lightweight,Comfort,...</td>\n",
       "      <td>₹599</td>\n",
       "    </tr>\n",
       "    <tr>\n",
       "      <th>26</th>\n",
       "      <td>CAMPUS</td>\n",
       "      <td>OG-05 Sneakers For Men</td>\n",
       "      <td>₹1,374</td>\n",
       "    </tr>\n",
       "    <tr>\n",
       "      <th>27</th>\n",
       "      <td>JUMPLITE</td>\n",
       "      <td>Lightweight Comfort Summer Trendy Premium Styl...</td>\n",
       "      <td>₹859</td>\n",
       "    </tr>\n",
       "    <tr>\n",
       "      <th>28</th>\n",
       "      <td>Red Tape</td>\n",
       "      <td>Sneaker Casual Shoes For Men | Soft Cushion In...</td>\n",
       "      <td>₹1,079</td>\n",
       "    </tr>\n",
       "    <tr>\n",
       "      <th>29</th>\n",
       "      <td>PUMA</td>\n",
       "      <td>ST Runner v3 L Sneakers For Men</td>\n",
       "      <td>₹5,224</td>\n",
       "    </tr>\n",
       "    <tr>\n",
       "      <th>30</th>\n",
       "      <td>CAMPUS</td>\n",
       "      <td>OG-11 Sneakers For Men</td>\n",
       "      <td>₹1,311</td>\n",
       "    </tr>\n",
       "    <tr>\n",
       "      <th>31</th>\n",
       "      <td>CAMPUS</td>\n",
       "      <td>CAMP-CLINT Sneakers For Women</td>\n",
       "      <td>₹1,249</td>\n",
       "    </tr>\n",
       "    <tr>\n",
       "      <th>32</th>\n",
       "      <td>PUMA</td>\n",
       "      <td>Rungryp Sneakers For Men</td>\n",
       "      <td>₹2,350</td>\n",
       "    </tr>\n",
       "    <tr>\n",
       "      <th>33</th>\n",
       "      <td>Hida</td>\n",
       "      <td>Sneakers For Men</td>\n",
       "      <td>₹569</td>\n",
       "    </tr>\n",
       "    <tr>\n",
       "      <th>34</th>\n",
       "      <td>CAMPUS</td>\n",
       "      <td>OG-D3 Sneakers For Men</td>\n",
       "      <td>₹646</td>\n",
       "    </tr>\n",
       "    <tr>\n",
       "      <th>35</th>\n",
       "      <td>asian</td>\n",
       "      <td>Boston-01 Chunky Sneakers,Loafers,Walking Shoe...</td>\n",
       "      <td>₹799</td>\n",
       "    </tr>\n",
       "    <tr>\n",
       "      <th>36</th>\n",
       "      <td>AMICO</td>\n",
       "      <td>Sneakers For Men</td>\n",
       "      <td>₹429</td>\n",
       "    </tr>\n",
       "    <tr>\n",
       "      <th>37</th>\n",
       "      <td>HRX by Hrithik Roshan</td>\n",
       "      <td>Sneakers For Men</td>\n",
       "      <td>₹720</td>\n",
       "    </tr>\n",
       "    <tr>\n",
       "      <th>38</th>\n",
       "      <td>PUMA</td>\n",
       "      <td>Club 5v5 SD Sneakers For Men</td>\n",
       "      <td>₹3,149</td>\n",
       "    </tr>\n",
       "    <tr>\n",
       "      <th>39</th>\n",
       "      <td>RECSOR</td>\n",
       "      <td>Fashionable I Stylish I Casual I Extra Lightwe...</td>\n",
       "      <td>₹699</td>\n",
       "    </tr>\n",
       "  </tbody>\n",
       "</table>\n",
       "</div>"
      ],
      "text/plain": [
       "                    Brand                                Product Discription  \\\n",
       "0                  lejano                                   Sneakers For Men   \n",
       "1                  BRUTON      Modern Trendy Sneakers Shoes Sneakers For Men   \n",
       "2                   Sparx   SM 784 | Stylish, Comfortable | Sneakers For Men   \n",
       "3   HRX by Hrithik Roshan                 Rerooted Classics Sneakers For Men   \n",
       "4                   Xtoon  Xtoon comfortable casual shoes for men's Sneak...   \n",
       "5                  BRUTON                 Lite Casual Shoes Sneakers For Men   \n",
       "6                    Bata                        SPARK E 24 Sneakers For Men   \n",
       "7   HRX by Hrithik Roshan                 Rerooted Classics Sneakers For Men   \n",
       "8                  KILLER  Casual Sneaker Shoes For Men | Enhanced Comfor...   \n",
       "9                    NIKE                      Court Royale Sneakers For Men   \n",
       "10                 BRUTON                 Lite Casual Shoes Sneakers For Men   \n",
       "11                 BRUTON             Lattest Sneakers Shoe Sneakers For Men   \n",
       "12               Roadster                                   Sneakers For Men   \n",
       "13  HRX by Hrithik Roshan                         Cityscape Sneakers For Men   \n",
       "14                   Bata                         DASH E 24 Sneakers For Men   \n",
       "15               Roadster                            Casual Sneakers For Men   \n",
       "16                 BRUTON  Combo Pack of 2 Trendy & Stylish Casual Shoes ...   \n",
       "17                 CAMPUS                             FLASH Sneakers For Men   \n",
       "18  HRX by Hrithik Roshan                      Club Culture Sneakers For Men   \n",
       "19                  WROGN                                   Sneakers For Men   \n",
       "20                 MEGPAR  White New Stylish Look Comfortable Casual Shoe...   \n",
       "21                 MEGPAR             Stylish Pink Casual Sneakers For Women   \n",
       "22               Red Tape  Sneaker Casual Shoes For Men | Soft Cushion In...   \n",
       "23               Red Tape  Sneaker Casual Shoes For Men | Soft Cushion In...   \n",
       "24                 CAMPUS                             OG-D3 Sneakers For Men   \n",
       "25               alpaargo  Geniune Synthetic Leather Lightweight,Comfort,...   \n",
       "26                 CAMPUS                             OG-05 Sneakers For Men   \n",
       "27               JUMPLITE  Lightweight Comfort Summer Trendy Premium Styl...   \n",
       "28               Red Tape  Sneaker Casual Shoes For Men | Soft Cushion In...   \n",
       "29                   PUMA                    ST Runner v3 L Sneakers For Men   \n",
       "30                 CAMPUS                             OG-11 Sneakers For Men   \n",
       "31                 CAMPUS                      CAMP-CLINT Sneakers For Women   \n",
       "32                   PUMA                           Rungryp Sneakers For Men   \n",
       "33                   Hida                                   Sneakers For Men   \n",
       "34                 CAMPUS                             OG-D3 Sneakers For Men   \n",
       "35                  asian  Boston-01 Chunky Sneakers,Loafers,Walking Shoe...   \n",
       "36                  AMICO                                   Sneakers For Men   \n",
       "37  HRX by Hrithik Roshan                                   Sneakers For Men   \n",
       "38                   PUMA                       Club 5v5 SD Sneakers For Men   \n",
       "39                 RECSOR  Fashionable I Stylish I Casual I Extra Lightwe...   \n",
       "\n",
       "     Price  \n",
       "0     ₹459  \n",
       "1     ₹299  \n",
       "2     ₹584  \n",
       "3     ₹814  \n",
       "4     ₹407  \n",
       "5     ₹478  \n",
       "6     ₹619  \n",
       "7   ₹1,047  \n",
       "8     ₹849  \n",
       "9   ₹4,495  \n",
       "10    ₹499  \n",
       "11    ₹279  \n",
       "12  ₹1,517  \n",
       "13    ₹726  \n",
       "14    ₹619  \n",
       "15  ₹1,403  \n",
       "16    ₹499  \n",
       "17  ₹1,374  \n",
       "18    ₹902  \n",
       "19    ₹362  \n",
       "20    ₹429  \n",
       "21    ₹429  \n",
       "22  ₹1,079  \n",
       "23  ₹1,079  \n",
       "24    ₹513  \n",
       "25    ₹599  \n",
       "26  ₹1,374  \n",
       "27    ₹859  \n",
       "28  ₹1,079  \n",
       "29  ₹5,224  \n",
       "30  ₹1,311  \n",
       "31  ₹1,249  \n",
       "32  ₹2,350  \n",
       "33    ₹569  \n",
       "34    ₹646  \n",
       "35    ₹799  \n",
       "36    ₹429  \n",
       "37    ₹720  \n",
       "38  ₹3,149  \n",
       "39    ₹699  "
      ]
     },
     "execution_count": 118,
     "metadata": {},
     "output_type": "execute_result"
    }
   ],
   "source": [
    "df=pd.DataFrame({'Brand':brand, 'Product Discription': product_discription, 'Price':price[:40]})\n",
    "df"
   ]
  },
  {
   "cell_type": "code",
   "execution_count": 148,
   "id": "101cdae7",
   "metadata": {},
   "outputs": [],
   "source": [
    "#answer 5\n",
    "driver=webdriver.Chrome()"
   ]
  },
  {
   "cell_type": "code",
   "execution_count": 149,
   "id": "5002e468",
   "metadata": {},
   "outputs": [],
   "source": [
    "driver.get('http://www.amazon.in/')"
   ]
  },
  {
   "cell_type": "code",
   "execution_count": 150,
   "id": "e40557e6",
   "metadata": {},
   "outputs": [],
   "source": [
    "search_button=driver.find_element(By.XPATH, '/html/body/div[1]/header/div/div[1]/div[2]/div/form/div[2]/div[1]/input')\n",
    "search_button.click()"
   ]
  },
  {
   "cell_type": "code",
   "execution_count": 151,
   "id": "e81ee423",
   "metadata": {},
   "outputs": [],
   "source": [
    "search_laptop=driver.find_element(By.XPATH, '/html/body/div[1]/header/div/div[1]/div[2]/div/form/div[2]/div[1]/input')\n",
    "search_laptop.send_keys('laptop')"
   ]
  },
  {
   "cell_type": "code",
   "execution_count": 152,
   "id": "64204817",
   "metadata": {},
   "outputs": [],
   "source": [
    "search_icon=driver.find_element(By.XPATH, '/html/body/div[1]/header/div/div[1]/div[2]/div/form/div[3]/div/span/input')\n",
    "search_icon.click()"
   ]
  },
  {
   "cell_type": "code",
   "execution_count": 153,
   "id": "7d9bd198",
   "metadata": {},
   "outputs": [],
   "source": [
    "cpu_filter=driver.find_element(By.XPATH, '/html/body/div[1]/div[1]/div[1]/div[2]/div/div[3]/span/div[1]/span/div/div/div[6]/ul[2]/span/span[8]/li/span/a/span')\n",
    "cpu_filter.click()"
   ]
  },
  {
   "cell_type": "code",
   "execution_count": 154,
   "id": "d7aa113c",
   "metadata": {},
   "outputs": [],
   "source": [
    "title=[]\n",
    "ratings=[]\n",
    "price=[]"
   ]
  },
  {
   "cell_type": "code",
   "execution_count": 155,
   "id": "e896abcf",
   "metadata": {},
   "outputs": [],
   "source": [
    "for i in driver.find_elements(By.XPATH, '//span[@class=\"a-size-medium a-color-base a-text-normal\"]'):\n",
    "    title.append(i.text)"
   ]
  },
  {
   "cell_type": "code",
   "execution_count": 158,
   "id": "f5557e2d",
   "metadata": {},
   "outputs": [
    {
     "data": {
      "text/plain": [
       "['(Refurbished) Lenovo ThinkPad 6th Gen Intel Core i5 Thin & Light HD Laptop (16GB RAM / 512GB SSD /14\" (35.6 cm) HD/Windows 11/MS Office/WiFi/Webcam/Intel Graphics), Black',\n",
       " 'Acer Aspire Lite 12th Gen Intel Core i5-1235U Premium Laptop (16GB RAM/512GB SSD/Win11 Home&Student/Intel Graphics/MSO) AL15-52, 39.62cm (15.6\") Full HD Display, Backlit Keyboard, Steel Gray, 1.59KG',\n",
       " 'HP Laptop 15, Intel Core i5-1334U, 15.6-inch(39.6 cm), FHD, 16GB DDR4, 512GB SSD, Audio by B&O; Dual Speakers, Windows 11 Home, Silver, 1.59 kg, 15-fd0221TU',\n",
       " '(Renewed) DELL Latitude 5490 Core i5 8th Gen Laptop, 16 GB RAM, 512GB SSD, Intel HD Graphics, 14 inch (36.83 cms) HD Screen, Windows 11 (Upgraded), MS Office, Black, Slim',\n",
       " 'Lenovo V14 G3 Laptop (Intel Core i5/ 12th Gen/ 8GB RAM/ 512GB SSD/DOS/ 14\" Inch), Arctic Grey, 1 Year Service Center Carry in Warranty',\n",
       " 'ASUS TUF F15 Gaming Laptop, Intel Core i5-11400H 11th Gen, 15.6-inch (39.62 cm) FHD 144Hz,(16GB RAM/512GB SSD/4GB NVIDIA GeForce RTX 2050/Windows 11/ RGB Backlit KB/Black/2.30 kg), FX506HF-HN025W',\n",
       " '(Renewed) DELL Latitude 5490 Core i5 7th Gen Laptop, 16 GB RAM, 512GB SSD, Intel HD Graphics, 14 inch (36.83 cms) HD Screen, Windows 11 (Upgraded), MS Office, Black, Slim',\n",
       " 'Acer Aspire 3 Intel Core i5-1235U Processor Laptop with 35.56 cm(14\") FHD LED-Backlit IPS Display (16GB RAM/1TB SSD/WiFi 6/Intel Graphics/Win11Home) A324-51, Backlit Keyboard, Steel Gray, 1.45KG',\n",
       " 'ASUS Vivobook 15, Intel Core i5-12500H 12th Gen, Thin and Light Laptop, 15.6\" (39.62 cm) FHD, (8 GB RAM/512GB SSD/Windows11/Office 2021/Backlit/42WHr/Silver/1.70 kg), X1502ZA-EJ524WS',\n",
       " 'NSXEEN Portable Laptop Stand, Aluminum Adjustable Eye-Level Ergonomic Height Compatible for MacBook Notebook Computer PC iPad Tablet, Ultra-Thin Light Weight Desktop Notebook Holder Riser I Silver- Pack Of 1 |',\n",
       " 'Chuwi CoreBook X i5 14\" Laptop, 16GB RAM 512GB SSD, Windows 11, Intel Core i5-1035G1, WiFi 6, USB3.2, Backlit Keyboard, Webcam, Bluetooth 5.2, HDMI Port, 46.2 Wh, 1.4kg (Gray)',\n",
       " 'Acer Aspire Lite 12th Gen Intel Core i5-12450H Thin and Light Laptop (Win11Home/12GB RAM/512GB SSD/Intel UHD Graphics) AL15-52H, 39.62cm (15.6\") FHD IPS Display, Backlit Keyboard, Pure Silver, 1.7KG',\n",
       " 'Dell Vostro 15 Thin & Light Laptop, Intel Core 13th Generation i5-1334U Processor, 16GB DDR4 & 512GB SSD, 15.6\"(39.62cm) FHD 120Hz 250 nits, Windows 11 + MSO\\'21 + 15 Month Mcafee, Carbon Black, 1.66kg',\n",
       " 'Acer Aspire Lite 12th Gen Intel Core i5-1235U Premium Laptop (16 GB RAM/1 TB SSD/Win11 Home/Intel Graphics) AL15-52, 39.62cm (15.6\") Full HD Display, White Backlit Keyboard, Steel Gray, 1.59KG',\n",
       " 'Dell Inspiron 3530 Laptop, 13th Gen Intel Core i5-1334U Processor/16GB/1TB SSD/15.6\" (39.62cm) FHD Display/Backlit Keyboard/Platinum Silver/Win 11 + MSO\\'21/15 Month McAfee/Thin & Light- 1.66kg',\n",
       " 'Lenovo IdeaPad Flex 5 12th Gen Intel Core i5-1235U 14\"(35.56cm) WUXGA IPS 2-in-1 Laptop (16GB/512GB SSD/Win 11/Office 21/Backlit KB/Fingerprint/FHD Camera/Alexa/3 mon Game Pass/Grey/1.5Kg), 82R700JJIN',\n",
       " 'HP Pavilion 14, 12th Gen Intel Core i5-1235U, 14-inch (35.6 cm), FHD, 16GB DDR4, 512GB SSD, Intel Iris Xe graphics, FPR, 720p HD camera, Backlit KB (Win 11, MSO 2021, Silver, 1.41 kg), dv2014TU',\n",
       " 'HONOR MagicBook X16 (2024), 12th Gen Intel Core i5-12450H, 16-inch (40.64 cm) FHD IPS Anti-Glare Thin and Light Laptop (16GB/512GB PCIe SSD/Windows 11/ Full-Size Numeric Keyboard /1.68Kg), Gray',\n",
       " 'Acer Aspire 5 Gaming Laptop 13th Gen Intel Core i5(16GB RAM/512GB SSD/NVIDIA RTX 2050 4GB Graphics/144Hz/Win11Home)A515-58GM 15.6\" FHD Display, Steel Gray, Backlit Keyboard, Fingerprint Reader, 1.78KG',\n",
       " 'ASUS TUF Gaming F17, Intel Core i5-11400H 11th Gen, 17.3-inch (43.94 cm) FHD 165Hz, Gaming Laptop (16GB/1TB SSD/4GB NVIDIA GeForce RTX 2050/Win 11/ RGB Backlit KB/Black/2.60 kg), FX706HF-NY039W',\n",
       " 'Dell Inspiron 7430 2in1 Touch Laptop, Intel Core i5-1335U Processor/ 16GB LP DDR5/ 1TB SSD/14.0\" (35.56cm) FHD+/ Active Pen/Win 11 + MSO\\'21/15 Month McAfee/Platinum Silver/Thin & Light- 1.58kg',\n",
       " 'Acer Nitro V Gaming Laptop 13th Gen Intel Core i5-13420H with RTX 4050 Graphics 6GB VRAM, 144Hz Display (16GB DDR5/512GB SSD/Windows 11 Home/Wi-Fi 6),15.6\"(39.6cms) FHD ANV15-51',\n",
       " 'HP New 15 Laptop, Intel Core i5-12th Gen-1235U,8GB DDR4 RAM,512 GB SSD, Backlit KB, Windows 11 + MS Office 2021,15.6 inch(39.6 cm),FHD,Anti-Glare, Dual Speakers,1.59 kg,Natural Silver, 15-fd0070TU',\n",
       " 'HP Victus Gaming Laptop, 12th Gen Intel Core i5-12450H,4GB RTX 2050 GPU,15.6-inch(39.6 cm),FHD,IPS,144Hz,8GB DDR4,512GB SSD,Backlit KB,W11+MSO,B&O,9ms response time(P.Blue, 2.29 kg),15-fa1098TX',\n",
       " 'Acer Travelmate Business Laptop Intel Core i5-1135G7 processor (16GB DDR4/ 512GB SSD/Intel Iris Xe Graphics/Windows 11 Home) TMP214-53 with 35.56 cm (14\") Full HD Display']"
      ]
     },
     "execution_count": 158,
     "metadata": {},
     "output_type": "execute_result"
    }
   ],
   "source": [
    "title"
   ]
  },
  {
   "cell_type": "code",
   "execution_count": 159,
   "id": "c01ab51c",
   "metadata": {},
   "outputs": [],
   "source": [
    "for i in driver.find_elements(By.XPATH, '//span[@class=\"a-icon-alt\"]'):\n",
    "    ratings.append(i.text)"
   ]
  },
  {
   "cell_type": "code",
   "execution_count": 160,
   "id": "77aee6ff",
   "metadata": {},
   "outputs": [
    {
     "data": {
      "text/plain": [
       "['',\n",
       " '',\n",
       " '',\n",
       " '',\n",
       " '',\n",
       " '',\n",
       " '',\n",
       " '',\n",
       " '',\n",
       " '',\n",
       " '',\n",
       " '',\n",
       " '',\n",
       " '',\n",
       " '',\n",
       " '',\n",
       " '',\n",
       " '',\n",
       " '',\n",
       " '',\n",
       " '',\n",
       " '',\n",
       " '',\n",
       " '',\n",
       " '',\n",
       " '',\n",
       " '',\n",
       " '',\n",
       " '',\n",
       " '']"
      ]
     },
     "execution_count": 160,
     "metadata": {},
     "output_type": "execute_result"
    }
   ],
   "source": [
    "ratings"
   ]
  },
  {
   "cell_type": "code",
   "execution_count": 163,
   "id": "ec9e1e54",
   "metadata": {},
   "outputs": [],
   "source": [
    "for i in driver.find_elements(By.CLASS_NAME, 'a-price-whole'):\n",
    "    price.append(i.text)"
   ]
  },
  {
   "cell_type": "code",
   "execution_count": 164,
   "id": "0a848caf",
   "metadata": {},
   "outputs": [
    {
     "data": {
      "text/plain": [
       "['16,099',\n",
       " '43,990',\n",
       " '55,690',\n",
       " '64,990',\n",
       " '43,990',\n",
       " '52,990',\n",
       " '',\n",
       " '22,475',\n",
       " '36,870',\n",
       " '50,990',\n",
       " '19,990',\n",
       " '39,990',\n",
       " '47,990',\n",
       " '449',\n",
       " '26,990',\n",
       " '41,990',\n",
       " '54,980',\n",
       " '44,990',\n",
       " '60,150',\n",
       " '62,490',\n",
       " '61,990',\n",
       " '43,990',\n",
       " '52,990',\n",
       " '53,990',\n",
       " '82,290',\n",
       " '77,480',\n",
       " '49,980',\n",
       " '54,980',\n",
       " '36,990']"
      ]
     },
     "execution_count": 164,
     "metadata": {},
     "output_type": "execute_result"
    }
   ],
   "source": [
    "price"
   ]
  },
  {
   "cell_type": "code",
   "execution_count": 165,
   "id": "1cd1feb1",
   "metadata": {},
   "outputs": [
    {
     "data": {
      "text/html": [
       "<div>\n",
       "<style scoped>\n",
       "    .dataframe tbody tr th:only-of-type {\n",
       "        vertical-align: middle;\n",
       "    }\n",
       "\n",
       "    .dataframe tbody tr th {\n",
       "        vertical-align: top;\n",
       "    }\n",
       "\n",
       "    .dataframe thead th {\n",
       "        text-align: right;\n",
       "    }\n",
       "</style>\n",
       "<table border=\"1\" class=\"dataframe\">\n",
       "  <thead>\n",
       "    <tr style=\"text-align: right;\">\n",
       "      <th></th>\n",
       "      <th>Product Title</th>\n",
       "      <th>Ratings</th>\n",
       "      <th>Product Price</th>\n",
       "    </tr>\n",
       "  </thead>\n",
       "  <tbody>\n",
       "    <tr>\n",
       "      <th>0</th>\n",
       "      <td>(Refurbished) Lenovo ThinkPad 6th Gen Intel Co...</td>\n",
       "      <td>5</td>\n",
       "      <td>16,099</td>\n",
       "    </tr>\n",
       "    <tr>\n",
       "      <th>1</th>\n",
       "      <td>Acer Aspire Lite 12th Gen Intel Core i5-1235U ...</td>\n",
       "      <td>5</td>\n",
       "      <td>43,990</td>\n",
       "    </tr>\n",
       "    <tr>\n",
       "      <th>2</th>\n",
       "      <td>HP Laptop 15, Intel Core i5-1334U, 15.6-inch(3...</td>\n",
       "      <td>5</td>\n",
       "      <td>55,690</td>\n",
       "    </tr>\n",
       "    <tr>\n",
       "      <th>3</th>\n",
       "      <td>(Renewed) DELL Latitude 5490 Core i5 8th Gen L...</td>\n",
       "      <td>5</td>\n",
       "      <td>64,990</td>\n",
       "    </tr>\n",
       "    <tr>\n",
       "      <th>4</th>\n",
       "      <td>Lenovo V14 G3 Laptop (Intel Core i5/ 12th Gen/...</td>\n",
       "      <td>5</td>\n",
       "      <td>43,990</td>\n",
       "    </tr>\n",
       "    <tr>\n",
       "      <th>5</th>\n",
       "      <td>ASUS TUF F15 Gaming Laptop, Intel Core i5-1140...</td>\n",
       "      <td>5</td>\n",
       "      <td>52,990</td>\n",
       "    </tr>\n",
       "    <tr>\n",
       "      <th>6</th>\n",
       "      <td>(Renewed) DELL Latitude 5490 Core i5 7th Gen L...</td>\n",
       "      <td>5</td>\n",
       "      <td></td>\n",
       "    </tr>\n",
       "    <tr>\n",
       "      <th>7</th>\n",
       "      <td>Acer Aspire 3 Intel Core i5-1235U Processor La...</td>\n",
       "      <td>5</td>\n",
       "      <td>22,475</td>\n",
       "    </tr>\n",
       "    <tr>\n",
       "      <th>8</th>\n",
       "      <td>ASUS Vivobook 15, Intel Core i5-12500H 12th Ge...</td>\n",
       "      <td>5</td>\n",
       "      <td>36,870</td>\n",
       "    </tr>\n",
       "    <tr>\n",
       "      <th>9</th>\n",
       "      <td>NSXEEN Portable Laptop Stand, Aluminum Adjusta...</td>\n",
       "      <td>5</td>\n",
       "      <td>50,990</td>\n",
       "    </tr>\n",
       "  </tbody>\n",
       "</table>\n",
       "</div>"
      ],
      "text/plain": [
       "                                       Product Title Ratings Product Price\n",
       "0  (Refurbished) Lenovo ThinkPad 6th Gen Intel Co...       5        16,099\n",
       "1  Acer Aspire Lite 12th Gen Intel Core i5-1235U ...       5        43,990\n",
       "2  HP Laptop 15, Intel Core i5-1334U, 15.6-inch(3...       5        55,690\n",
       "3  (Renewed) DELL Latitude 5490 Core i5 8th Gen L...       5        64,990\n",
       "4  Lenovo V14 G3 Laptop (Intel Core i5/ 12th Gen/...       5        43,990\n",
       "5  ASUS TUF F15 Gaming Laptop, Intel Core i5-1140...       5        52,990\n",
       "6  (Renewed) DELL Latitude 5490 Core i5 7th Gen L...       5              \n",
       "7  Acer Aspire 3 Intel Core i5-1235U Processor La...       5        22,475\n",
       "8  ASUS Vivobook 15, Intel Core i5-12500H 12th Ge...       5        36,870\n",
       "9  NSXEEN Portable Laptop Stand, Aluminum Adjusta...       5        50,990"
      ]
     },
     "execution_count": 165,
     "metadata": {},
     "output_type": "execute_result"
    }
   ],
   "source": [
    "df=pd.DataFrame({'Product Title':title[:10], 'Ratings':rating[:10], 'Product Price':price[:10]})\n",
    "df"
   ]
  },
  {
   "cell_type": "code",
   "execution_count": 166,
   "id": "871f25d2",
   "metadata": {},
   "outputs": [],
   "source": [
    "#answer 6\n",
    "driver=webdriver.Chrome()"
   ]
  },
  {
   "cell_type": "code",
   "execution_count": 167,
   "id": "8c6d83f4",
   "metadata": {},
   "outputs": [],
   "source": [
    "driver.get('http://www.azquotes.com/')"
   ]
  },
  {
   "cell_type": "code",
   "execution_count": 168,
   "id": "5e4f3102",
   "metadata": {},
   "outputs": [],
   "source": [
    "top_quote=driver.find_element(By.XPATH, '/html/body/div[1]/div[1]/div[1]/div/div[3]/ul/li[5]/a')\n",
    "top_quote.click()"
   ]
  },
  {
   "cell_type": "code",
   "execution_count": 169,
   "id": "266982d5",
   "metadata": {},
   "outputs": [],
   "source": [
    "qoute=[]\n",
    "author=[]\n",
    "type_of_quotes=[]"
   ]
  },
  {
   "cell_type": "code",
   "execution_count": 174,
   "id": "e3d4e5ed",
   "metadata": {},
   "outputs": [
    {
     "ename": "ElementNotInteractableException",
     "evalue": "Message: element not interactable\n  (Session info: chrome=128.0.6613.138)\nStacktrace:\n\tGetHandleVerifier [0x00007FF737759412+29090]\n\t(No symbol) [0x00007FF7376CE239]\n\t(No symbol) [0x00007FF73758B009]\n\t(No symbol) [0x00007FF7375E0442]\n\t(No symbol) [0x00007FF7375D2D81]\n\t(No symbol) [0x00007FF7376066EA]\n\t(No symbol) [0x00007FF7375D26C6]\n\t(No symbol) [0x00007FF737606900]\n\t(No symbol) [0x00007FF7376265A2]\n\t(No symbol) [0x00007FF737606493]\n\t(No symbol) [0x00007FF7375D09D1]\n\t(No symbol) [0x00007FF7375D1B31]\n\tGetHandleVerifier [0x00007FF737A7871D+3302573]\n\tGetHandleVerifier [0x00007FF737AC4243+3612627]\n\tGetHandleVerifier [0x00007FF737ABA417+3572135]\n\tGetHandleVerifier [0x00007FF737815EB6+801862]\n\t(No symbol) [0x00007FF7376D945F]\n\t(No symbol) [0x00007FF7376D4FB4]\n\t(No symbol) [0x00007FF7376D5140]\n\t(No symbol) [0x00007FF7376C461F]\n\tBaseThreadInitThunk [0x00007FFD27C9257D+29]\n\tRtlUserThreadStart [0x00007FFD2908AF28+40]\n",
     "output_type": "error",
     "traceback": [
      "\u001b[1;31m---------------------------------------------------------------------------\u001b[0m",
      "\u001b[1;31mElementNotInteractableException\u001b[0m           Traceback (most recent call last)",
      "Cell \u001b[1;32mIn[174], line 6\u001b[0m\n\u001b[0;32m      4\u001b[0m     quote\u001b[38;5;241m.\u001b[39mappend(i\u001b[38;5;241m.\u001b[39mtext)\n\u001b[0;32m      5\u001b[0m next_button\u001b[38;5;241m=\u001b[39mdriver\u001b[38;5;241m.\u001b[39mfind_element(By\u001b[38;5;241m.\u001b[39mCLASS_NAME, \u001b[38;5;124m'\u001b[39m\u001b[38;5;124mnext\u001b[39m\u001b[38;5;124m'\u001b[39m)\n\u001b[1;32m----> 6\u001b[0m next_button\u001b[38;5;241m.\u001b[39mclick()\n\u001b[0;32m      7\u001b[0m time\u001b[38;5;241m.\u001b[39msleep(\u001b[38;5;241m8\u001b[39m)\n",
      "File \u001b[1;32m~\\anaconda3\\Lib\\site-packages\\selenium\\webdriver\\remote\\webelement.py:94\u001b[0m, in \u001b[0;36mWebElement.click\u001b[1;34m(self)\u001b[0m\n\u001b[0;32m     92\u001b[0m \u001b[38;5;28;01mdef\u001b[39;00m \u001b[38;5;21mclick\u001b[39m(\u001b[38;5;28mself\u001b[39m) \u001b[38;5;241m-\u001b[39m\u001b[38;5;241m>\u001b[39m \u001b[38;5;28;01mNone\u001b[39;00m:\n\u001b[0;32m     93\u001b[0m \u001b[38;5;250m    \u001b[39m\u001b[38;5;124;03m\"\"\"Clicks the element.\"\"\"\u001b[39;00m\n\u001b[1;32m---> 94\u001b[0m     \u001b[38;5;28mself\u001b[39m\u001b[38;5;241m.\u001b[39m_execute(Command\u001b[38;5;241m.\u001b[39mCLICK_ELEMENT)\n",
      "File \u001b[1;32m~\\anaconda3\\Lib\\site-packages\\selenium\\webdriver\\remote\\webelement.py:395\u001b[0m, in \u001b[0;36mWebElement._execute\u001b[1;34m(self, command, params)\u001b[0m\n\u001b[0;32m    393\u001b[0m     params \u001b[38;5;241m=\u001b[39m {}\n\u001b[0;32m    394\u001b[0m params[\u001b[38;5;124m\"\u001b[39m\u001b[38;5;124mid\u001b[39m\u001b[38;5;124m\"\u001b[39m] \u001b[38;5;241m=\u001b[39m \u001b[38;5;28mself\u001b[39m\u001b[38;5;241m.\u001b[39m_id\n\u001b[1;32m--> 395\u001b[0m \u001b[38;5;28;01mreturn\u001b[39;00m \u001b[38;5;28mself\u001b[39m\u001b[38;5;241m.\u001b[39m_parent\u001b[38;5;241m.\u001b[39mexecute(command, params)\n",
      "File \u001b[1;32m~\\anaconda3\\Lib\\site-packages\\selenium\\webdriver\\remote\\webdriver.py:354\u001b[0m, in \u001b[0;36mWebDriver.execute\u001b[1;34m(self, driver_command, params)\u001b[0m\n\u001b[0;32m    352\u001b[0m response \u001b[38;5;241m=\u001b[39m \u001b[38;5;28mself\u001b[39m\u001b[38;5;241m.\u001b[39mcommand_executor\u001b[38;5;241m.\u001b[39mexecute(driver_command, params)\n\u001b[0;32m    353\u001b[0m \u001b[38;5;28;01mif\u001b[39;00m response:\n\u001b[1;32m--> 354\u001b[0m     \u001b[38;5;28mself\u001b[39m\u001b[38;5;241m.\u001b[39merror_handler\u001b[38;5;241m.\u001b[39mcheck_response(response)\n\u001b[0;32m    355\u001b[0m     response[\u001b[38;5;124m\"\u001b[39m\u001b[38;5;124mvalue\u001b[39m\u001b[38;5;124m\"\u001b[39m] \u001b[38;5;241m=\u001b[39m \u001b[38;5;28mself\u001b[39m\u001b[38;5;241m.\u001b[39m_unwrap_value(response\u001b[38;5;241m.\u001b[39mget(\u001b[38;5;124m\"\u001b[39m\u001b[38;5;124mvalue\u001b[39m\u001b[38;5;124m\"\u001b[39m, \u001b[38;5;28;01mNone\u001b[39;00m))\n\u001b[0;32m    356\u001b[0m     \u001b[38;5;28;01mreturn\u001b[39;00m response\n",
      "File \u001b[1;32m~\\anaconda3\\Lib\\site-packages\\selenium\\webdriver\\remote\\errorhandler.py:229\u001b[0m, in \u001b[0;36mErrorHandler.check_response\u001b[1;34m(self, response)\u001b[0m\n\u001b[0;32m    227\u001b[0m         alert_text \u001b[38;5;241m=\u001b[39m value[\u001b[38;5;124m\"\u001b[39m\u001b[38;5;124malert\u001b[39m\u001b[38;5;124m\"\u001b[39m]\u001b[38;5;241m.\u001b[39mget(\u001b[38;5;124m\"\u001b[39m\u001b[38;5;124mtext\u001b[39m\u001b[38;5;124m\"\u001b[39m)\n\u001b[0;32m    228\u001b[0m     \u001b[38;5;28;01mraise\u001b[39;00m exception_class(message, screen, stacktrace, alert_text)  \u001b[38;5;66;03m# type: ignore[call-arg]  # mypy is not smart enough here\u001b[39;00m\n\u001b[1;32m--> 229\u001b[0m \u001b[38;5;28;01mraise\u001b[39;00m exception_class(message, screen, stacktrace)\n",
      "\u001b[1;31mElementNotInteractableException\u001b[0m: Message: element not interactable\n  (Session info: chrome=128.0.6613.138)\nStacktrace:\n\tGetHandleVerifier [0x00007FF737759412+29090]\n\t(No symbol) [0x00007FF7376CE239]\n\t(No symbol) [0x00007FF73758B009]\n\t(No symbol) [0x00007FF7375E0442]\n\t(No symbol) [0x00007FF7375D2D81]\n\t(No symbol) [0x00007FF7376066EA]\n\t(No symbol) [0x00007FF7375D26C6]\n\t(No symbol) [0x00007FF737606900]\n\t(No symbol) [0x00007FF7376265A2]\n\t(No symbol) [0x00007FF737606493]\n\t(No symbol) [0x00007FF7375D09D1]\n\t(No symbol) [0x00007FF7375D1B31]\n\tGetHandleVerifier [0x00007FF737A7871D+3302573]\n\tGetHandleVerifier [0x00007FF737AC4243+3612627]\n\tGetHandleVerifier [0x00007FF737ABA417+3572135]\n\tGetHandleVerifier [0x00007FF737815EB6+801862]\n\t(No symbol) [0x00007FF7376D945F]\n\t(No symbol) [0x00007FF7376D4FB4]\n\t(No symbol) [0x00007FF7376D5140]\n\t(No symbol) [0x00007FF7376C461F]\n\tBaseThreadInitThunk [0x00007FFD27C9257D+29]\n\tRtlUserThreadStart [0x00007FFD2908AF28+40]\n"
     ]
    }
   ],
   "source": [
    "quote=[]\n",
    "for page in range(8):\n",
    "    for i in driver.find_elements(By.CLASS_NAME, 'title'):\n",
    "        quote.append(i.text)\n",
    "    next_button=driver.find_element(By.CLASS_NAME, 'next')\n",
    "    next_button.click()\n",
    "    time.sleep(8)"
   ]
  },
  {
   "cell_type": "code",
   "execution_count": null,
   "id": "88ed2eb4",
   "metadata": {},
   "outputs": [],
   "source": [
    "#i am doing something fundamentally incorrect here but i will learn!"
   ]
  }
 ],
 "metadata": {
  "kernelspec": {
   "display_name": "Python 3 (ipykernel)",
   "language": "python",
   "name": "python3"
  },
  "language_info": {
   "codemirror_mode": {
    "name": "ipython",
    "version": 3
   },
   "file_extension": ".py",
   "mimetype": "text/x-python",
   "name": "python",
   "nbconvert_exporter": "python",
   "pygments_lexer": "ipython3",
   "version": "3.11.5"
  }
 },
 "nbformat": 4,
 "nbformat_minor": 5
}
